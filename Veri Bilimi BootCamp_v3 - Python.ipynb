{
 "cells": [
  {
   "attachments": {
    "resim.png": {
     "image/png": "[encoded data removed]"
    }
   },
   "cell_type": "markdown",
   "metadata": {},
   "source": [
    "![resim.png](attachment:resim.png)"
   ]
  },
  {
   "attachments": {
    "resim.png": {
     "image/png": "[encoded data removed]"
    }
   },
   "cell_type": "markdown",
   "metadata": {},
   "source": [
    "# <font color=green>  Python'a Giriş</font>\n",
    "\n",
    "- Python, Guido Van rossum adlı hollandalı bir programcı tarafından yazılmış bir programlama dilidir. \n",
    "- Açık ve anlaşılır dili ile popülerdir. \n",
    "- Bilimsel rekabetin hemen hemen her alanında açık kaynaklı Python araçları müthiş bir ekosisteme sahiptir. \n",
    "- Basitçe açıklamak gerekirse, __Python diğer dillerin öğle yemeğini yemektedir.__\n",
    "\n",
    "![resim.png](attachment:resim.png)\n",
    "\n",
    "\n",
    "<a id='another_cell'></a>\n",
    "\n",
    "[1. Python Temeller](#python_temeller)<br>\n",
    "&emsp;[1.1.Başlarken](#baslarken)<br>\n",
    "&emsp;[1.2.Değişkenler](#degiskenler)<br>\n",
    "&emsp;[1.3. Veri Tipleri](#veri_tipleri)<br>\n",
    "&emsp;&emsp;[Sayılar: Integer ve Float Sayılar](#numbers)<br>\n",
    "&emsp;&emsp;[String](#string)<br>\n",
    "&emsp;&emsp;[Boolean](#boolean)<br>\n",
    "&emsp;&emsp;[None](#none)<br>\n",
    "&emsp;[1.4. Tip Dönüşümleri](#type)<br>\n",
    "[2.\tVeri Yapıları ](#data_structures)<br>\n",
    "&emsp;[2.1. Listeler (Lists)](#list)<br>\n",
    "&emsp;[2.2. Sözlükler (Dictionaries)](#dictionaries)<br>\n",
    "&emsp;[2.3. Demetler (Tuples)](#tuple)<br>\n",
    "&emsp;[2.4. Kümeler (Sets)](#set)<br>\n",
    "[3. Koşullu İfadeler (Conditional States) ve Döngüler (Loops)](#conditional_loop)<br>\n",
    "&emsp;[3.1. if-else statement](#if)<br>\n",
    "&emsp;[3.2. for-loop](#for)<br>\n",
    "&emsp;[3.3. while-loop](#while)<br>\n",
    "[4. List and Dict Comprehensions](#comprehensions)<br>\n",
    "[5. Dosyadan Okuma/Dosyaya Yazma (Input/Output İşlemleriOperations](#io)<br>\n",
    "[6. Fonksiyonlar (Functions)](#function)<br>\n",
    "[7. Hazır Fonksiyonlar ve Metodlar (Embedded Functionsand Methods)](#embedded_functions)<br>\n",
    "[8. Hata Ayıklama (Exceptions and error handling)](#error)<br>\n",
    "[9. Modüller (Moduls)](#modul)<br>"
   ]
  },
  {
   "cell_type": "markdown",
   "metadata": {},
   "source": [
    "## <font color=red>1. Python Temeller</font>  <a id='python_temeller'></a>\n",
    "###  <font color=blue>1.1. Başlarken</font><a id='baslarken'></a>\n",
    "\n",
    "Python ile yazdığımız kodları çalıştırmakta kullandığımız arayüzlerden biri olan Jupyter Notebook bize oldukça esneklik sağlamaktadır. Şu anda bu dersi takip edebiliyorsanız kurulumu başarıyla gerçekleştirmişsiniz demektir. \n",
    "\n",
    "Jupyter Notebook ile ilgili detaylı bilgileri ....'da bulabilirsiniz. İlk aşamada bilmeniz gereken yazdığınız kodu çalıştırmak için __ctrl + enter ya da shift + enter__ tuşlarına basmak ya da üst menü de yer alan __\"Run\"__ butonuna tıklamaktır. Kod yazmak için yeni bir satır eklemek için ise üst menüde yer alan \"+\"  butonuna tıklayabilirsiniz."
   ]
  },
  {
   "cell_type": "markdown",
   "metadata": {},
   "source": [
    "##### İlk Kodumuz\n",
    "Python yazdığınız işlemleri herhangi bir komut dahi yazmadan hesaplama ve gösterme serbestisi sağlamaktadır. Bir hesap makinesi kullanmak kadar basittir diyebiliriz. Örneğin; `3 + 5` yazıp çalıştırdığımızda extra bir komut yazmadan sonucu görebiliriz."
   ]
  },
  {
   "cell_type": "code",
   "execution_count": null,
   "metadata": {},
   "outputs": [],
   "source": [
    "3+5"
   ]
  },
  {
   "cell_type": "code",
   "execution_count": null,
   "metadata": {},
   "outputs": [],
   "source": [
    "\"Bootcamp'e hoş geldiniz!\""
   ]
  },
  {
   "cell_type": "markdown",
   "metadata": {},
   "source": [
    "Buradaki metni tırnak içerisnde yazdığımızı farketmişsinizdir. Bu hususu metinlerle ilgili konuda irdeleyeceğiz."
   ]
  },
  {
   "cell_type": "markdown",
   "metadata": {},
   "source": [
    "##### print() Komutu\n",
    "Yukarıdaki örneklerde istediğimiz şeyleri doğrudan komut çıktı satırında görüntüledik. Yaptığımız doğrudan yazdırmak yerine bir düzen içerisinde kullanıcıya göstermek tabiki tercih edilmelidir.  Bunun için de temel kodumuz `print()` komutu olacaktır. Aslında `print()` çok sık kullanacağımız bir fonksiyon. Fonksiyon tabirini şimdilik bir aklımızın bir köşesinde tutalım. İlerde detaylı olarak göreceğiz. "
   ]
  },
  {
   "cell_type": "code",
   "execution_count": null,
   "metadata": {
    "scrolled": true
   },
   "outputs": [],
   "source": [
    "print(3 + 5)"
   ]
  },
  {
   "cell_type": "markdown",
   "metadata": {},
   "source": [
    "Python'da büyük/küçük harf ayrımı önemlidir. Gerek değişkenler gerekse diğer komutlar nasıl tanımlandıysa büyük/küçük harf ayrımına dikkat edilerek yazılmalıdır. Biz `print()` ifadesini küçük harflerle yazıyoruz."
   ]
  },
  {
   "cell_type": "code",
   "execution_count": null,
   "metadata": {},
   "outputs": [],
   "source": [
    "print(\"Toplama işleminin sonucu :\",  3+5)"
   ]
  },
  {
   "cell_type": "code",
   "execution_count": null,
   "metadata": {},
   "outputs": [],
   "source": [
    "print(\"Bootcamp'e hoş geldiniz!\")"
   ]
  },
  {
   "cell_type": "markdown",
   "metadata": {},
   "source": [
    "`print()` komutunun görevi kısaca __ekrana çıktı vermektir.__ Gösterdiği şey her neyse sadece gösterir, bir yere kaydetmez. Yukarıdaki iki metinin de zaten ekrana çıktı olarak geldiğini düşünebilirsiniz. Ancak iki ifadeyi birden yazdığımızda durumun öyle olmadığını göreceksiniz:"
   ]
  },
  {
   "cell_type": "code",
   "execution_count": null,
   "metadata": {},
   "outputs": [],
   "source": [
    "3+5\n",
    "\"Bootcamp'e hoş geldiniz!\""
   ]
  },
  {
   "cell_type": "markdown",
   "metadata": {},
   "source": [
    "Gördüğünüz gibi print kullanmadığımız için sadece son komutu ekranda görebildik. Oysa `print()` komutu ile tüm işlemleri ekranda görebiliriz:"
   ]
  },
  {
   "cell_type": "code",
   "execution_count": null,
   "metadata": {},
   "outputs": [],
   "source": [
    "print(\"Toplama işleminin sonucu :\",  3+5)\n",
    "print(\"Bootcamp'e hoş geldiniz!\")"
   ]
  },
  {
   "cell_type": "markdown",
   "metadata": {},
   "source": [
    "Ancak kod yazarken sürekli değişiklikler yapıp sonucu görme ihtiyacı sıkça ortaya çıktığından doğrudan ekrana yazdırma çoğu yazılımcının tercihi olabilmektedir. Biz yine de `print()` komutunu kullanmayı önermekteyiz."
   ]
  },
  {
   "cell_type": "markdown",
   "metadata": {},
   "source": [
    "`print()` komutunda parantez içerisine birden fazla ifade yazabilmekteyiz. Fonksiyonlar bölümünde \"parametre\" olarak karşımıza çıkacak olan  bu ifadeleri  \",\" ile ayırmaktayız. "
   ]
  },
  {
   "cell_type": "code",
   "execution_count": null,
   "metadata": {},
   "outputs": [],
   "source": [
    "print (\"Bugün hava\" , 15 , \"derece\")"
   ]
  },
  {
   "cell_type": "markdown",
   "metadata": {},
   "source": [
    "`print()` içerisine doğrudan metin yazacağımız zaman üç farklı tırnak seçeneği karşımıza çıkmaktadır. Öncelikle hangisini kullanacağımız bize kalmış. Ancak metin içerisinde -Türkiye'nin- gibi kesmeli bir ifade varsa tek tırnak kullanılamaz. Aynı şekilde tırnak içerinde belirtilen \"Türkiye\" gibi tırnak içerisinde bir metin varsa \" çift tırnak kullanılmamalıdır. Üç çift tırnağın ise birden çok satıra yayılan metinlerde kullanılması daha kullanışlı olacaktır. "
   ]
  },
  {
   "cell_type": "code",
   "execution_count": null,
   "metadata": {},
   "outputs": [],
   "source": [
    "print('Tek tırnak')\n",
    "print(\"Çift tırnak\")\n",
    "print(\"\"\"Üç çift tırnak\"\"\")"
   ]
  },
  {
   "cell_type": "code",
   "execution_count": null,
   "metadata": {},
   "outputs": [],
   "source": [
    "print (\"Türkiye'nin üç tarafı denizlerle çevrilidir.\")"
   ]
  },
  {
   "cell_type": "code",
   "execution_count": null,
   "metadata": {},
   "outputs": [],
   "source": [
    "print ('Tercih sizin. İster \"çift tırnak\", ister \"tek tırnak\" kullanın.')"
   ]
  },
  {
   "cell_type": "code",
   "execution_count": null,
   "metadata": {},
   "outputs": [],
   "source": [
    "print (\"\"\"Birden fazla satırı kullanacaksanız  \n",
    "üç çift tırnak kullanabilirsiniz...\n",
    "\"\"\")"
   ]
  },
  {
   "cell_type": "markdown",
   "metadata": {},
   "source": [
    "`print()` komutunun içerisine birden fazla ifade yazdığımızda bu ifadeleri __\" \" boşluk ekleyerek__ birleştirdiğini farketmişsinizdir. Bu `print()` fonksiyonun varsayılan parametrelerinden olan `sep=\" \"` parametresinden kaynaklanmaktadır. Varsayılan olarak boşluk (\" \" ) olarak tanımlanmış  bu parametre görünmese de arka planda `print()` komutunun içerisinde saklıdır. İstersek bu değeri değiştirebiliriz."
   ]
  },
  {
   "cell_type": "code",
   "execution_count": null,
   "metadata": {},
   "outputs": [],
   "source": [
    "print (\"Bugün hava\" , 15 , \"derece\")\n",
    "print (\"Bugün hava\" , 15 , \"derece\", sep=\"+\")"
   ]
  },
  {
   "cell_type": "markdown",
   "metadata": {},
   "source": [
    "`print()` komutu otomat,kmen bir alt satıra geçmesinin ğalamaktadır. Bu ise `end=\"\\n\"` parametresinden kaynaklanmaktadır. Bunun yerine boşluk yazarsek alt alta yerine yan yana yazdırabilriz."
   ]
  },
  {
   "cell_type": "code",
   "execution_count": null,
   "metadata": {},
   "outputs": [],
   "source": [
    "print(\"Meyve\")\n",
    "print(\"Sebze\")"
   ]
  },
  {
   "cell_type": "code",
   "execution_count": null,
   "metadata": {},
   "outputs": [],
   "source": [
    "print(\"Meyve\", end=\" \")\n",
    "print(\"Sebze\", end=\" \")"
   ]
  },
  {
   "cell_type": "markdown",
   "metadata": {},
   "source": [
    "__<font color=green>--- İpucu ---</font>__\n",
    "\n",
    "Yazdığımız kodlarda __'#' işaretini__ sıkça kullandığımızı göreceksiniz. '#' işareti açıklama yapmak ya da kodun bir kısmını etkisiz hale getirmek için kullanılır. '#' işaretinden sonra yazılan metin kodun çalışmasına etki etmemektedir. "
   ]
  },
  {
   "cell_type": "markdown",
   "metadata": {},
   "source": [
    "###  <font color=blue>1.2. Değişkenler</font> <a id='degiskenler'></a>\n",
    "- Değişken bir değere verilen addır. Bir kodda herhangi bir yerde tanımlanan değerleri adlandırıp daha sonradan kullanmak üzere saklamamıza yarar. \n",
    "\n",
    "- Böylelikle bu adı kodumuzda istedidiğimz zaman kullanarak, tekrar tanımlama/hesaplama yapma ihtiyacını ortadan kaldırmış oluruz.\n",
    "\n",
    "- Örneğin `pi = 3.14` şeklinde atama yaptığımızı düşünelim.  \"3.14\" değerine ihtiyacımız olduğu zaman \"pi\"  değişkeninin çağırmamız yeterli olacaktır. \n",
    "\n",
    "- Değişkene değer atarken __\"=\" işaretini__ kullanmaktayız. Matematikte __\"=\"__ bir eşitlik ifade eder ancak Python'da __\"=\"__ sağdaki bir değeri solda belirtilen değişkene atar. \n",
    "\n",
    "- Python'da standart olarak 5 veri tipi bulunmaktadır. Bunlar:\n",
    "    - __Sayılar (Numbers)__: Tam sayı (integer) ya da ondalıklı sayı (float) olabilir. Ondalıklı sayıların gösteriminde virgül yerine nokta kullanıldığını da hatrılatalım.    \n",
    "    - __String__ : Düz yazı türüdür ve en kapsamlı değişken tipidir.\n",
    "    \n",
    "    Aşağıdaki veri tiplerinde birden çok verinin tanımlanabilmektedir. Bu üç veri tipini __\"Veri Yapıları\"__ kısmında detaylı olarak inceleyeceğiz.\n",
    "    - __Listeler (Lists)__: \n",
    "    - __Tuple__\n",
    "    - __Sözlük (Dictionary)__\n",
    "    \n",
    "    Bu beş temel veri tipine True ve False olmak üzere iki değeri olan __Boolean__  da eklenebilir."
   ]
  },
  {
   "cell_type": "code",
   "execution_count": null,
   "metadata": {},
   "outputs": [],
   "source": [
    "# 'int' tipinde değişken tanımlama\n",
    "a=1\n",
    "\n",
    "# 'float' tipinde değişken tanımlama\n",
    "b=1.5 \n",
    "\n",
    "# string (str) tipinde değişken tanımlama\n",
    "c= \"Veri bilimi Datajarlabst'ta öğrenilir.\"\n",
    "\n",
    "# boolean (bool) tipinde değişken tanımlama\n",
    "d= True"
   ]
  },
  {
   "cell_type": "markdown",
   "metadata": {},
   "source": [
    "Şimdi değişken tanımlayıp basit bir hesaplama yapalım."
   ]
  },
  {
   "cell_type": "code",
   "execution_count": null,
   "metadata": {},
   "outputs": [],
   "source": [
    "pi = 3.14\n",
    "r = 4"
   ]
  },
  {
   "cell_type": "code",
   "execution_count": null,
   "metadata": {},
   "outputs": [],
   "source": [
    "print('Dairenin çevresi :', 2 * pi * r, 'cm')"
   ]
  },
  {
   "cell_type": "markdown",
   "metadata": {},
   "source": [
    "Bilgilerimizi de sonradan kullanmak üzere değişkenlerde saklayabiliriz. "
   ]
  },
  {
   "cell_type": "code",
   "execution_count": null,
   "metadata": {},
   "outputs": [],
   "source": [
    "isim = \"Ahmet\"\n",
    "soyisim = \"Yılmaz\"\n",
    "\n",
    "print (\"Merhaba, benim adım\" , isim , soyisim)"
   ]
  },
  {
   "cell_type": "markdown",
   "metadata": {},
   "source": [
    "__<font color=green>--- İpucu ---</font>__\n",
    "\n",
    "Üzerinde çalıştığımız notebook kapatılmadığı sürece tanımladığımız değişken kullanılabilir. Kapatıp tekrar açıldığında değişken tanımlamalarının yapıldığı hücrelerin tekrar çalıştırılması gerekir.  "
   ]
  },
  {
   "cell_type": "markdown",
   "metadata": {},
   "source": [
    "##### Değişkenleri Adlandırma\n",
    "\n",
    "Değişkenlere isim vermek için basit bir takım kurallar vardır. Bunları şöyle sıralayabiliriz:\n",
    "\n",
    "- Değişkenler bir harf ya da _ alt çizgi ile başlamalı, rakam ya da aritmetik işleçlerle ( \"+\" , \"/\" , \"*\" vb.) başlamamalıdır.\n",
    "- Değişken isimleri harfler, rakamlar ve alt çizgi (_) içerebilir.\n",
    "- Değişken isimlerinde Türkçe karakter kullanılabilir. Ancak beklenmedik bir problemle karşılaşmamak için kullanmamakta fayda var.\n",
    "- Kod yazarken kullanılan aşağıdaki 33 kelime de değişken adı olarak kullanılamaz.\n",
    "            False   class      finally   is \t    return\n",
    "            None    continue   for       lambda \ttry\n",
    "            True    def        from      nonlocal   while\n",
    "            and     del        global    not        with\n",
    "            as      elif       if        or         yield\n",
    "            assert  else       import    pass \t \n",
    "            break   except     in        raise "
   ]
  },
  {
   "cell_type": "markdown",
   "metadata": {},
   "source": [
    "- Fonksiyon isimleri değişken adı olarak kullanılabilir ancak bu durumda fonksiyon kullanılamaz hale gelir ve kodumuz hata verir. Bu nedenle bundan kaçınmak gerekir. Tanımladığımız bir değişkeni silmek için de `del` koutunu kullanabiliriz. "
   ]
  },
  {
   "cell_type": "code",
   "execution_count": null,
   "metadata": {},
   "outputs": [],
   "source": [
    "print = 15\n",
    "3 * print "
   ]
  },
  {
   "cell_type": "code",
   "execution_count": null,
   "metadata": {},
   "outputs": [],
   "source": [
    "# print (\"Merhaba\") Hata verir.\n",
    "del print"
   ]
  },
  {
   "cell_type": "markdown",
   "metadata": {},
   "source": [
    "__Örnek değişkenler:__"
   ]
  },
  {
   "cell_type": "code",
   "execution_count": null,
   "metadata": {},
   "outputs": [],
   "source": [
    "isim = \"Ahmet\"\n",
    "sevilen_ressam = \"Da Vinci\"\n",
    "__şifre__ = \"1234\"\n",
    "job1 = \"Data Scientist\"\n",
    "job2 = \"Sufferer\"\n",
    "pi = 3.14\n",
    "Medeni_Hal = True"
   ]
  },
  {
   "cell_type": "markdown",
   "metadata": {},
   "source": [
    "Değişken ismini uygun olmayan şekilde tanımlarsak `SyntaxError: invalid syntax` şeklinde bir hata alırız."
   ]
  },
  {
   "cell_type": "code",
   "execution_count": null,
   "metadata": {},
   "outputs": [],
   "source": [
    "#1st_name = \"Ahmet\"  # Değişken ismi rakam ile başlamamalı "
   ]
  },
  {
   "cell_type": "markdown",
   "metadata": {},
   "source": [
    "- Birden fazla değişkene aynı değeri atamak istediğimizde Python bize bir kolaylık sağlıyor. Örneğin; a ve b değişkenlerine 5 değerini atamak istediğimizde `a = 5` ve `b = 5` yerine `a = b = 5` şeklinde atama yapabiliriz. \n",
    "\n",
    "Yıl içindeki aylar için gün sayılarını tanımlayalım:"
   ]
  },
  {
   "cell_type": "code",
   "execution_count": null,
   "metadata": {},
   "outputs": [],
   "source": [
    "Ocak = Mart = Mayıs = Temmuz = Ağustos = Ekim = Aralık = 31\n",
    "Nisan = Haziran = Eylül = Kasım = 30\n",
    "Şubat = 28\n",
    "print (Ocak, Şubat, Mart, Nisan, Mayıs, Haziran, Temmuz, Ağustos, Eylül, Ekim, Kasım, Aralık)"
   ]
  },
  {
   "cell_type": "markdown",
   "metadata": {},
   "source": [
    "\n",
    "###  <font color=blue>1.3. Veri Tipleri</font> <a id='veri_tipleri'></a>"
   ]
  },
  {
   "cell_type": "markdown",
   "metadata": {},
   "source": [
    "- Değişkenler, farklı değer tiplerini temsil edilebilir. Örneğin kelimeler ve sayılar verilerin farklı tiplerindendir. - Bir değişkene 42 sayısı atanabileceği gibi \"kırk iki\" kelimesi de refere edilebilir.\n",
    "- Değişkenin tipinin ne olduğunu sorgulamak için `type()` komutunu kullanabiliriz."
   ]
  },
  {
   "cell_type": "code",
   "execution_count": null,
   "metadata": {},
   "outputs": [],
   "source": [
    "Sinav_Notu = 42\n",
    "print (\"Sinav_Notu değişkeninin tipi   : \", type(Sinav_Notu))\n",
    "print (\"Sinav_Notu değişkeninin değeri : \", Sinav_Notu)"
   ]
  },
  {
   "cell_type": "code",
   "execution_count": null,
   "metadata": {},
   "outputs": [],
   "source": [
    "Sinav_Notu = \"Kırkiki\"\n",
    "print (\"Sinav_Notu değişkeninin tipi   : \", type(Sinav_Notu))\n",
    "print (\"Sinav_Notu değişkeninin değeri : \", Sinav_Notu)"
   ]
  },
  {
   "cell_type": "code",
   "execution_count": null,
   "metadata": {
    "scrolled": true
   },
   "outputs": [],
   "source": [
    "Sinav_Basarisi = False\n",
    "print (\"Sinav_Basarisi değişkeninin tipi   : \", type(Sinav_Basarisi))\n",
    "print (\"Sinav_Basarisi değişkeninin değeri : \", Sinav_Basarisi)"
   ]
  },
  {
   "cell_type": "markdown",
   "metadata": {},
   "source": [
    "Yukarıda tanımladığımız değişkenlere sırasıyla int - (42), String - ('Kırkiki') ve Boolen - (False) değerlerini atadık. Görüldüğü gibi önce \"int\" olan bir değişken sadece yeni bir değer ataması ile \"String\" oldu. Şimdi bu değişken tiplerini detaylı olarak inceleyelim.   "
   ]
  },
  {
   "cell_type": "markdown",
   "metadata": {},
   "source": [
    "###  Sayılar: Integer ve Float Sayılar  <a id='numbers'></a> \n",
    "Sayıların pythonda iki tipi vardır: tam sayılar(integer) ve ondalıklı sayılar(float).\n",
    "\n",
    "- __ Tam sayılar (Integer): __ tam sayılar bir kesir halinde ya da ondalıklı sayı halinde yazılmaz. Maksimum tam sayı büyüklüğü yoktur. \n",
    "\n",
    "- __ Ondalıklı sayılar:__ ondalık değer içeren sayılardır. "
   ]
  },
  {
   "cell_type": "code",
   "execution_count": null,
   "metadata": {},
   "outputs": [],
   "source": [
    "# Float tanımlama\n",
    "Pi_sayisi = 3.14\n",
    "\n",
    "# Integer tanımlama\n",
    "yaricap = 10"
   ]
  },
  {
   "cell_type": "markdown",
   "metadata": {},
   "source": [
    "Şimdi de sayılarla yapabildiğimiz __aritmatik işlemlere__ bakalım."
   ]
  },
  {
   "cell_type": "markdown",
   "metadata": {},
   "source": [
    "__Toplama ve Çıkarma:__ $+$ ve $-$ işaretlerini kullanıyoruz."
   ]
  },
  {
   "cell_type": "code",
   "execution_count": null,
   "metadata": {},
   "outputs": [],
   "source": [
    "# Toplama\n",
    "toplam = 15 + 22  \n",
    "print(\"15 ve 22 sayılarının toplamı : \", toplam)\n",
    "\n",
    "# Çıkarma\n",
    "fark = 22 - 15\n",
    "print(\"22 ve 15 sayılarının farkı   : \", fark)"
   ]
  },
  {
   "cell_type": "markdown",
   "metadata": {},
   "source": [
    "__Çarpma ve Kuvvetini alma:__ $*$ ve $**$  işaretlerini kullanıyoruz. "
   ]
  },
  {
   "cell_type": "code",
   "execution_count": null,
   "metadata": {},
   "outputs": [],
   "source": [
    "# Çarpma\n",
    "carpim = 15 * 22  \n",
    "print(\"15 ve 22 sayılarının çarpımı : \", carpim)\n",
    "\n",
    "# Kuvvetini alma\n",
    "kare = 9 ** 2  \n",
    "print(\"9'un karesi : \", kare)\n",
    "kuvvet = 4 ** 3  \n",
    "print(\"4 üzeri 3   : \", kuvvet)"
   ]
  },
  {
   "cell_type": "markdown",
   "metadata": {},
   "source": [
    "__Bölme :__ Bölme işlemi için $/$ ve $//$ işaretlerini kullanıyoruz.  $//$ işareti ile bölme yaptığımızda, sonucun ondalık kısmı atılır. Blüm sonucu kalanı bulmak için ise mod (__%__) işareti kullanılır."
   ]
  },
  {
   "cell_type": "code",
   "execution_count": null,
   "metadata": {},
   "outputs": [],
   "source": [
    "# Bölme\n",
    "bolum = 130/2  \n",
    "print(\"130'un 11'e bölümü (Tek / ile)  :\", bolum)\n",
    "ciftli_bolum = 130//2  \n",
    "print(\"130'un 11'e bölümü (Çift // ile):\", ciftli_bolum)\n",
    "\n",
    "# Mod alma\n",
    "kalan = 25%7\n",
    "print(\"25'in 7'ye bölümünden kalan     :\", kalan)"
   ]
  },
  {
   "cell_type": "markdown",
   "metadata": {},
   "source": [
    "__İşlemlerin Önceliği__ : Python matematiksel hesaplama yaparken aşağıdaki işlem önceliklerine göre işlem yapar. Bu nedenle öncelik sırasında altta olan bir işlemi önce yapmak istediğimizde parantez $( )$ kullanmamız gerekir.\n",
    "\n",
    "1. Parantez $()$\n",
    "2. Kuvvet (Exponent) $**$\n",
    "3. Çarpma yada bölme $ * $  $/$\n",
    "4. Toplama ya da çıkarma $ + $  $-$"
   ]
  },
  {
   "cell_type": "code",
   "execution_count": null,
   "metadata": {},
   "outputs": [],
   "source": [
    "print (\"3*(2+3) =\"  , 3*(2+3))\n",
    "print (\"3*2**3  =\"  , 3*2**3)\n",
    "print (\"3*2+3   =\"  , 3*2+3)"
   ]
  },
  {
   "cell_type": "markdown",
   "metadata": {},
   "source": [
    "__Basit İşlemler__ : Bir değişken ekleme/çıkarma yapmak ya da bir sayıyla çarpmak için  ($+=$),($-=$) ve ($*=$) kullanabiliriz."
   ]
  },
  {
   "cell_type": "code",
   "execution_count": null,
   "metadata": {
    "scrolled": false
   },
   "outputs": [],
   "source": [
    "x = 5\n",
    "print ('x değeri       : ', x)\n",
    "x +=2\n",
    "print (\"x'in 2 fazlası : \", x, \"\\n\")\n",
    "\n",
    "y = 10\n",
    "print ('y değeri       : ', y)\n",
    "y -=2\n",
    "print (\"y'nin 2 eksiği : \", y, \"\\n\")\n",
    "\n",
    "z = 6\n",
    "print ('z değeri       : ', z)\n",
    "z *=2\n",
    "print (\"z'nin 2 katı   : \", z, \"\\n\")"
   ]
  },
  {
   "cell_type": "markdown",
   "metadata": {},
   "source": [
    "__<font color=green>--- İpucu ---</font>__\n",
    "\n",
    "__\"\\n\"__ satır sonu anlamına gelmektedir. Metin arasına satır boşluğu koymak için satır sonundan faydalanabiliriz. Böyece yazdırdığımız metin daha düzgün anlaşılabilir.\n"
   ]
  },
  {
   "cell_type": "markdown",
   "metadata": {},
   "source": [
    "__<font color=red>--- Alıştırma 1 ---</font>__\n",
    "\n",
    "Bitcoin'in iyi kazandırdığı 2017 yılı sonunda yatırım yaptığınızı farz edelim. Günlük ortalama % 12 artan bitcoine 1000$ yatırmış olsaydınız bir hafta sonunda paranız ne kadar olurdu? \n"
   ]
  },
  {
   "cell_type": "code",
   "execution_count": null,
   "metadata": {},
   "outputs": [],
   "source": [
    "#anapara için değişken belirleyin\n",
    "\n",
    "#günlük çarpan belirleyin\n",
    "\n",
    "#hesaplamayı yapın\n",
    "\n",
    "#sonucu yazdırın\n"
   ]
  },
  {
   "cell_type": "code",
   "execution_count": null,
   "metadata": {},
   "outputs": [],
   "source": [
    "#anapara için değişken belirleyin\n",
    "anapara = 1000\n",
    "\n",
    "#günlük çarpan belirleyin\n",
    "carpan = 1.12\n",
    "\n",
    "#hesaplamayı yapın\n",
    "son_miktar = anapara * (carpan ** 7)\n",
    "\n",
    "#sonucu yazdırın\n",
    "print(son_miktar)"
   ]
  },
  {
   "cell_type": "markdown",
   "metadata": {},
   "source": [
    "### String <a id='string'></a>\n",
    "\n",
    "- Stringler, tırnak içinde verilen metinsel verilerdir. \n",
    "- Tek tırnak ya da çift tırnak içerisinde belirtilebilmektedir. "
   ]
  },
  {
   "cell_type": "code",
   "execution_count": null,
   "metadata": {},
   "outputs": [],
   "source": [
    "meyve = 'Portakal'\n",
    "sebze = \"Domates\"\n",
    "print(meyve, \" ve \" , sebze)"
   ]
  },
  {
   "cell_type": "markdown",
   "metadata": {},
   "source": [
    "- String tipindeki değişkenimizi `type()` fonksiyonu ile sorgulayalım."
   ]
  },
  {
   "cell_type": "code",
   "execution_count": null,
   "metadata": {},
   "outputs": [],
   "source": [
    "type (meyve)"
   ]
  },
  {
   "cell_type": "markdown",
   "metadata": {},
   "source": [
    "- Herhangi bir string ifadenin istediğimiz harfine __köşeli parantez [ ]__ ile ulaşabiliriz. Index'in ilk değeri 0'dır. Yani ilk harf 0'ıncı harftir. "
   ]
  },
  {
   "cell_type": "code",
   "execution_count": null,
   "metadata": {},
   "outputs": [],
   "source": [
    "print('Kelime                 : ' , meyve)\n",
    "print('İlk harf               : ' , meyve[0])\n",
    "print('İkinci harf            : ' , meyve[1])\n",
    "print(\"3 ila 5'inci harfler   : \" , meyve[2:5])\n",
    "print(\"3'üncü harften sonrası : \" , meyve[2:])"
   ]
  },
  {
   "cell_type": "markdown",
   "metadata": {},
   "source": [
    "- Bir metnin uzunluğunu (karakter sayısını) öğrenmek için `len()` fonksiyonunu kullanabiliriz.  "
   ]
  },
  {
   "cell_type": "code",
   "execution_count": null,
   "metadata": {},
   "outputs": [],
   "source": [
    "print(meyve , 'kelimesinin uzunluğu :' , len(meyve))"
   ]
  },
  {
   "cell_type": "markdown",
   "metadata": {},
   "source": [
    "- Stringlerde __+ işareti__  ve  __* işareti__  ile işlemler yapabiliriz. Ancak matematiksel işlemden biraz farklı sonuç alırız.  __+ işareti__ ile iki string birleştirebilirken,  __* işareti__ ile stringi istediğimiz kadar çoğaltabilirir."
   ]
  },
  {
   "cell_type": "code",
   "execution_count": null,
   "metadata": {},
   "outputs": [],
   "source": [
    "print(\"+ işareti ile :\", meyve + sebze)\n",
    "print(\"* işareti ile :\", 2 * meyve)"
   ]
  },
  {
   "cell_type": "markdown",
   "metadata": {},
   "source": [
    "- String'lerin içerisine değişken ile başka bir değer eklemek istediğimizde `.format()` metodunu kullanabiliriz.\n",
    "- Metin içerisindeki küme parantezlerinin {} içine sayılar koyarak sıralamayı belirleyebiliriz.\n",
    "- Ondalıklı sayıların ondalık kısmını istediğimiz kadar göstermek için `{:.3f}, {:.0f}` şeklinde belirtme yapabiliriz. "
   ]
  },
  {
   "cell_type": "code",
   "execution_count": null,
   "metadata": {},
   "outputs": [],
   "source": [
    "miktar = 15\n",
    "metin = 'Aldığımız toplam {} miktarı {} kilogramdır.'\n",
    "print(metin.format(meyve, miktar))"
   ]
  },
  {
   "cell_type": "code",
   "execution_count": null,
   "metadata": {},
   "outputs": [],
   "source": [
    "pi = 22/7\n",
    "print(pi)\n",
    "print(\"Pi sayısı ({:.2f}) dairenin çevresinin çapına oranıdır.\".format(pi) )"
   ]
  },
  {
   "cell_type": "code",
   "execution_count": null,
   "metadata": {},
   "outputs": [],
   "source": [
    "print (\"{1} {3} {0} {2}\".format(\"veri bilimcisi\",6,\"olacağız\",\"ayda\"))"
   ]
  },
  {
   "cell_type": "markdown",
   "metadata": {},
   "source": [
    "- __sprintf__ formatı: String ifadenin içerisinde % işareti kullanarak metnin içerisine gelecek değerlerin tiplerini belirleyebiliriz."
   ]
  },
  {
   "cell_type": "code",
   "execution_count": null,
   "metadata": {},
   "outputs": [],
   "source": [
    "output = 'my life is %s %s %d' % (\"hello\", \"world\", 35)  \n",
    "print (output)\n",
    "\n",
    "output2 = 'my life is %s %s %.2f' % (\"hello\", \"world\", 35)  \n",
    "print (output2)"
   ]
  },
  {
   "cell_type": "markdown",
   "metadata": {},
   "source": [
    "__Kullanıcıdan Girdi Alma:__\n",
    "\n",
    "- `input()` ifadesiyle kullanıcıdan veri alıp bir değere atayabiliriz."
   ]
  },
  {
   "cell_type": "code",
   "execution_count": null,
   "metadata": {},
   "outputs": [],
   "source": [
    "ad = input('Adınız : ')\n",
    "yas = input('Yaşınız: ') \n",
    "print (\"Adınız {} ve {} yaşındasınız.\".format(ad,yas))"
   ]
  },
  {
   "cell_type": "markdown",
   "metadata": {},
   "source": [
    "__<font color=red>--- Alıştırma 2 ---</font>__\n",
    "\n",
    "Alıştırma 1'de sonucu doğrudan yaztırdık. Şimdi bunu biraz daha anlaşılır şekilde yazdıralım. Aşağıdaki metni oluşturulaım. Ancak rakamlar değişkenlerden gelmeli. Metin uzun olduğu için iki satıra yazmayı düşünebilirsiniz.\n",
    "\n",
    "__\"Hafta başında 1000 dolarlık bitcoin aldığımızda günde ortalama % 12 kazançla, bir hafta sonunda 1210.68 dolar kazanırdık\"__"
   ]
  },
  {
   "cell_type": "code",
   "execution_count": null,
   "metadata": {},
   "outputs": [],
   "source": [
    "# Kazanç durumunu belirten ifadeyi yazın.\n",
    "\n"
   ]
  },
  {
   "cell_type": "code",
   "execution_count": null,
   "metadata": {},
   "outputs": [],
   "source": [
    "# Kazanç durumunu belirten ifadeyi yazın.\n",
    "print(\"\"\"Hafta başında {} dolarlık bitcoin aldığımızda günde ortalama %{:.0f} kazançla, \n",
    "bir hafta sonunda {:.2f} dolar kazanırdık.\"\"\".format(anapara, (carpan-1)*100, son_miktar-anapara))"
   ]
  },
  {
   "cell_type": "markdown",
   "metadata": {},
   "source": [
    "### Boolean <a id='boolean'></a>\n",
    "- Boolean doğruluk ve yanlışlığı gösterir. \n",
    "- Bir boolean sadece iki olası değere sahiptir: True ve False. "
   ]
  },
  {
   "cell_type": "code",
   "execution_count": null,
   "metadata": {},
   "outputs": [],
   "source": [
    "Evli = True\n",
    "Sinav_Gecti = False"
   ]
  },
  {
   "cell_type": "markdown",
   "metadata": {},
   "source": [
    "Boolean değişkenler bilgisayarın en kolay anladığı ve tanımladığı değişkenlerdir. Bilgisayar zaten 0-1 mantığı ile çalıştığı için Boolean değişkenleri çok sevdiklerini söyleyebiliriz. Veri Bilimi'nde ilerledikçe bilgisayarın işini kolaylaştırmak için bazı değerleri Boolean'a çevireceğimizi göreceksiniz. "
   ]
  },
  {
   "cell_type": "markdown",
   "metadata": {},
   "source": [
    "__Karşılaştırma Operatörleri__ \n",
    "\n",
    "True ve False ifadelerinden bahsettikten sonra bu ifadelerin yaygın olarak kullanıldığı  karşılaştırma operatörlerine bakalım.\n",
    "\n",
    "<table class=\"table table-bordered\">\n",
    "<tr>\n",
    "<th style=\"width:10%\">Operatör</th><th style=\"width:45%\">Ne işe yarar</th><th>Örnek</th>\n",
    "</tr>\n",
    "<tr>\n",
    "<td>==</td>\n",
    "<td>İki değer eşitse `True`, farklıysa `False` döndürür.</td>\n",
    "<td> 2 == 2 (True) ,  2 == 3 (False)</td>\n",
    "</tr>\n",
    "<tr>\n",
    "<td>!=</td>\n",
    "<td>İki değer eşitdeğilse `True`, eşitse `False` döndürür.</td>\n",
    "<td>2 != 2 (False), 2 != 3 (True)</td>\n",
    "</tr>\n",
    "<tr>\n",
    "<td>&gt;</td>\n",
    "<td>Soldaki değer sağdaki değerden büyükse `True`, küçükse `False` döndürür. </td>\n",
    "<td> 3 > 2 (True), 2 > 3 (False)</td>\n",
    "</tr>\n",
    "<tr>\n",
    "<td>&lt;</td>\n",
    "<td>Soldaki değer sağdaki değerden küçükse `True`, büyükse `False` döndürür.</td>\n",
    "<td> 2 &lt; 3 (True) , 3 &lt; 2 (False) </td>\n",
    "</tr>\n",
    "<tr>\n",
    "<td>&gt;=</td>\n",
    "<td>Soldaki değer sağdaki değerden büyükse ya da eşitse `True`, küçükse `False` döndürür.</td>\n",
    "<td> 3 &gt;= 2 (True),3 &gt;= 3 (True) , 2 &gt;= 3 (False)</td>\n",
    "</tr>\n",
    "<tr>\n",
    "<td>&lt;=</td>\n",
    "<td>Soldaki değer sağdaki değerden küçükse ya da küçükse `True`, büyükse `False` döndürür.</td>\n",
    "<td> 3 &lt;= 2 (False),3 &lt;= 3 (True) , 2 &lt;= 3 (True) </td>\n",
    "</tr>\n",
    "</table>"
   ]
  },
  {
   "cell_type": "code",
   "execution_count": null,
   "metadata": {
    "scrolled": true
   },
   "outputs": [],
   "source": [
    "a = 8\n",
    "b = 10\n",
    "print (\"a'nın de                           :\" , a)\n",
    "print (\"b'nin değeri                       :\" , b)\n",
    "print (\"a ve b eşit mi?              (a==b):\" , a == b)\n",
    "print (\"a ve b eşit değil mi?        (a!=b):\" , a != b)\n",
    "print (\"a b'den küçük mü?             (a<b):\" , a < b)\n",
    "print (\"a b'den büyük mü?             (a>b):\" , a > b)\n",
    "print (\"a b'den küçük ya da eşit mi? (a<=b):\" , a <= b)\n",
    "print (\"a b'den büyük ya da eşit mi? (a>=b):\" , a >= b)"
   ]
  },
  {
   "cell_type": "markdown",
   "metadata": {},
   "source": [
    "\n",
    "### None <a id='none'></a>\n",
    "\n",
    "Bazen değişkenlerin değerlerini boş olarak tutmak ihtiyacımız ortaya çıkar. Örneğin, bir kişinin bilgilerini yazarken yaş bilgisini bilmiyorsak bu değişkene herhangi bir değer atamak yerine \"None\" olarak belirtmek gerelkir. \n"
   ]
  },
  {
   "cell_type": "code",
   "execution_count": null,
   "metadata": {},
   "outputs": [],
   "source": [
    "Ad = 'Ahmet'\n",
    "Soyad = \"Yılmaz\"\n",
    "Yas = strength = 4\n",
    "Meslek= None"
   ]
  },
  {
   "cell_type": "code",
   "execution_count": null,
   "metadata": {},
   "outputs": [],
   "source": [
    "print (Meslek)"
   ]
  },
  {
   "attachments": {
    "resim.png": {
     "image/png": "[encoded data removed]"
    }
   },
   "cell_type": "markdown",
   "metadata": {},
   "source": [
    "###  <font color=blue>1.4. Tip Dönüşümleri</font> <a id='type'></a>\n",
    "Bir veri tipi başka bir veri tipine dönüştürülebilmektedir. Örneğin string bir ifade ile aritmatik işlemi yapmak mümkün olamaz. Bunun için dönüştürme yapmamız gerekir. Dönüştürme yapmadan işlem yapmak istersek şöyle bir hata alırız:\n",
    "\n",
    "![resim.png](attachment:resim.png)\n",
    "\n",
    "Aynı şekilde bir string'e $+$ ile bir integer ekleyemeyiz. Bu sayıyı da stringe dönüştürmemiz gerekir. \n",
    "\n",
    "Dönüştürme yapmak için ise dönüştürmek istediğimiz tipi yazıp parantez içinde dönüştürülecek değeri `int('15')`, `str(15)`, `float(\"1.2\")` şeklinde yazmamız yeterlidir. \n",
    "\n",
    "\n",
    "   "
   ]
  },
  {
   "cell_type": "code",
   "execution_count": null,
   "metadata": {},
   "outputs": [],
   "source": [
    "a = 42\n",
    "b = \"10\"\n",
    "c = \"1.5\"\n",
    "d = \"Elma\"\n",
    "\n",
    "print(a-int(b))\n",
    "print(a-float(c))\n",
    "print(d+str(a))"
   ]
  },
  {
   "cell_type": "markdown",
   "metadata": {},
   "source": [
    "## <font color=red>2. Veri Yapıları </font> <a id='data_structures'></a>"
   ]
  },
  {
   "cell_type": "markdown",
   "metadata": {},
   "source": [
    "### <font color=blue>2.1. Listeler (Lists)</font> <a id='list'></a>\n",
    "\n",
    "- Python'da birden çok veriyi tutmak için list yapıları kullanılmaktadır. Bir sınıftaki öğrencilerin notu, yıl içerisindeki aylar gibi çoklu verileri saklamak için `list` kullanılır.\n",
    "- Listeler köşeli parantez $[$ $]$ içerisinde tanımlanır. Elementler arasında $,$ (virgül) bulunur."
   ]
  },
  {
   "cell_type": "code",
   "execution_count": null,
   "metadata": {},
   "outputs": [],
   "source": [
    "Aylar = ['Ocak', 'Şubat', 'Mart', 'Nisan', 'Mayıs', 'Haziran', 'Temmuz', \n",
    "         'Ağustos', 'Eylül', 'Ekim', 'Kasım', 'Aralık']\n",
    "\n",
    "Notlar = [88, 76, 56, 45, 98, 92, 65, 25, 36, 79]\n",
    "\n",
    "print(Aylar)\n",
    "print (Notlar)"
   ]
  },
  {
   "cell_type": "markdown",
   "metadata": {},
   "source": [
    "- List, farklı tipte değişkenleri tutabilir."
   ]
  },
  {
   "cell_type": "code",
   "execution_count": null,
   "metadata": {},
   "outputs": [],
   "source": [
    "Liste = ['Hello', 42, 3.414, True, None]"
   ]
  },
  {
   "cell_type": "markdown",
   "metadata": {},
   "source": [
    "- Listeler, başka listeleri de tutabilir. Örneğin, ayları mevsimlere göre saklayalım."
   ]
  },
  {
   "cell_type": "code",
   "execution_count": null,
   "metadata": {},
   "outputs": [],
   "source": [
    "Mevsim_Ayları = [['Mart', 'Nisan', 'Mayıs'], ['Haziran', 'Temmuz','Ağustos'], \n",
    "                 ['Eylül', 'Ekim', 'Kasım'], ['Aralık', 'Ocak', 'Şubat']]\n",
    "print(Mevsim_Ayları[0])\n",
    "print(Mevsim_Ayları[1])\n",
    "print(Mevsim_Ayları[2])\n",
    "print(Mevsim_Ayları[3])"
   ]
  },
  {
   "cell_type": "markdown",
   "metadata": {},
   "source": [
    "#### Liste oluşturma\n",
    "\n",
    "- Boş bir liste oluşturmak için [] ifadesini kullanırırz. Eğer köşeli parantezlerin içine virgül (,) ile ayrılmış değerler koyarsak listeyi doldurmuş oluruz. Boş listeyi neden oluştururuz ki diyebilirsiniz. Aslında bu ileride sıklıkla başvuracağımız bir yöntem. Çeşitli hesaplamalar ya da değişiklikler yapıp listeye eklemeler yapacağız."
   ]
  },
  {
   "cell_type": "code",
   "execution_count": null,
   "metadata": {},
   "outputs": [],
   "source": [
    "bos_liste = []\n",
    "harfler = ['a', 'b', 'c', 'd']"
   ]
  },
  {
   "cell_type": "markdown",
   "metadata": {},
   "source": [
    "- Aynı işlemi yapmak için `list()` fonksiyonunu da kullanabiliriz."
   ]
  },
  {
   "cell_type": "code",
   "execution_count": null,
   "metadata": {},
   "outputs": [],
   "source": [
    "bos_liste = list()\n",
    "harfler = list(('a', 'b', 'c', 'd'))\n",
    "sayilar = list((range(10))) \n",
    "\n",
    "print (bos_liste, harfler, sayilar, sep = '\\n')"
   ]
  },
  {
   "cell_type": "markdown",
   "metadata": {},
   "source": [
    "__<font color=red>--- Alıştırma 3 ---</font>__\n",
    "\n",
    "- Ayların kaç gün çektiğini karıştırabiliyoruz. Bunun için bir liste yapalım ancak listemizde ay isimleri ve gün sayılarını tek bir listede tutalım.\n",
    "\n",
    "\n",
    "- Yine bir ay listesi yapalım ama bu sefer ayları günlerle birlikte liste içinde ayrı listelerde tutalım. Ancak bilgilerimizi bir önceki listeden alalım.\n",
    "\n",
    "\n",
    "- Şimdi de mevsim mevsim mevsim ayrılmış listeler oluşturalım. Liste adlarına mevsimlerin adlarını verelim.  \n",
    "\n",
    "\n",
    "- Son olarak yaz ayının kaç gün sürdüğünü hesaplayalım."
   ]
  },
  {
   "cell_type": "code",
   "execution_count": null,
   "metadata": {},
   "outputs": [],
   "source": [
    "# Aylar listesi oluşturun\n",
    "\n",
    "# Ayların ayrı listelerde olduğu Aylar_ayri listesi oluşturun\n",
    "\n",
    "# ilkbahar, sonbahar, yaz ve kış olmak üzere 4 liste oluşturun. \n",
    "\n",
    "# mevsimleri yazdıralım.\n",
    "\n",
    "# Yaz ayının kaç gün sürdüğünü yazdırın."
   ]
  },
  {
   "cell_type": "code",
   "execution_count": null,
   "metadata": {},
   "outputs": [],
   "source": [
    "# \"aylar\" listesi oluşturun\n",
    "aylar = ['Ocak', 31, 'Şubat', 28, 'Mart', 31,\n",
    "         'Nisan', 30, 'Mayıs', 31, 'Haziran', 30,\n",
    "         'Temmuz', 31, 'Ağustos', 31, 'Eylül', 30,\n",
    "         'Ekim', 31, 'Kasım', 30, 'Aralık', 31]\n",
    "\n",
    "# \"aylar\" listesinden, ayların ayrı listelerde olduğu \"aylar_ayri\" listesi oluşturun.\n",
    "aylar_ayri = [aylar[0:2],aylar[2:4],aylar[4:6],aylar[6:8],\n",
    "              aylar[8:10],aylar[10:12],aylar[12:14],aylar[14:16],\n",
    "              aylar[16:18],aylar[18:20],aylar[20:22],aylar[22:24]]\n",
    "\n",
    "# ilkbahar, sonbahar, yaz ve kış olmak üzere 4 liste oluşturun. \n",
    "ilkbahar  = aylar_ayri[2:5]\n",
    "yaz = aylar_ayri[5:8]\n",
    "sonbahar = aylar_ayri[8:11]\n",
    "kış = [aylar_ayri[11],aylar_ayri[0], aylar_ayri[1]]\n",
    "\n",
    "# Mevsimleri yazdıralım.\n",
    "print(\"İlkbahar ayları :\", ilkbahar)\n",
    "print(\"Yaz ayları :\", yaz)\n",
    "print(\"Sonbahar ayları :\", sonbahar)\n",
    "print(\"Kış ayları :\", kış, \"\\n\")\n",
    "\n",
    "# Yaz ayının gün sayılarını hesaplayıp \"yaz_gunleri\" değişkenine atayın.\n",
    "yaz_gunleri = yaz[0][1] + yaz[1][1] + yaz[2][1]\n",
    "print(\"Yaz toplam {} gün sürmektedir.\".format(yaz_gunleri))"
   ]
  },
  {
   "cell_type": "code",
   "execution_count": null,
   "metadata": {},
   "outputs": [],
   "source": [
    "yaz"
   ]
  },
  {
   "cell_type": "markdown",
   "metadata": {},
   "source": [
    "__<font color=green>--- İpucu ---</font>__\n",
    "\n",
    "__\"range()\"__ fonksiyonu 0'dan belirtilen sayıya kadar sayı dizisi döndürür. `range(3:10)` şeklinde başlangıç da belirtilebilir."
   ]
  },
  {
   "cell_type": "markdown",
   "metadata": {},
   "source": [
    "#### List elemanlarına ulaşma ve güncelleme\n",
    "\n",
    "- Köşeli parantez $[$ $]$ kullanıp endeks numaraları ile listenin elemanlarına ulaşabiliriz. \n",
    "- String'leri incelerken gördüğümüz gibi ilk elemanın endeksi her zaman 0'dır."
   ]
  },
  {
   "cell_type": "code",
   "execution_count": null,
   "metadata": {},
   "outputs": [],
   "source": [
    "print(Aylar[0])    # 0 index numaralı eleman\n",
    "print(Aylar[3:7])  # 3 ila 7 index numaralı elemanlar\n",
    "print(Aylar[6:])   # 7'inciden sona kadar"
   ]
  },
  {
   "cell_type": "markdown",
   "metadata": {},
   "source": [
    "- `len()` fonksiyonu ile list'in eleman sayını öğrenebiliriz."
   ]
  },
  {
   "cell_type": "code",
   "execution_count": null,
   "metadata": {},
   "outputs": [],
   "source": [
    "print(len(Aylar))"
   ]
  },
  {
   "cell_type": "markdown",
   "metadata": {},
   "source": [
    "- Index numarasını eksi (-) ile belirterek sondan itibaren seçebiliriz."
   ]
  },
  {
   "cell_type": "code",
   "execution_count": null,
   "metadata": {},
   "outputs": [],
   "source": [
    "print(Aylar[:-4]) # Başlangıçtan, sondan 4. elemana kadar"
   ]
  },
  {
   "cell_type": "markdown",
   "metadata": {},
   "source": [
    "- Index sonra ekstra : ile listeden yapılan seçimin adımını belirtebiliriz."
   ]
  },
  {
   "cell_type": "code",
   "execution_count": null,
   "metadata": {},
   "outputs": [],
   "source": [
    "print(Aylar[0:12:3]) # Başlangıçtan, 12. elemana kadar 3 adımda bir."
   ]
  },
  {
   "cell_type": "markdown",
   "metadata": {},
   "source": [
    "- Listeler toplama işlemi yapar gibi kolaylıkla birbirlerine eklenebilirler."
   ]
  },
  {
   "cell_type": "code",
   "execution_count": null,
   "metadata": {
    "scrolled": true
   },
   "outputs": [],
   "source": [
    "a=[1,3,5] \n",
    "b=[6,8,9]\n",
    "c = a + b\n",
    "d = [a[0]] + b + [b[2]]\n",
    "\n",
    "print (\"c:\", c)\n",
    "print (\"d:\", d)"
   ]
  },
  {
   "cell_type": "code",
   "execution_count": null,
   "metadata": {},
   "outputs": [],
   "source": []
  },
  {
   "cell_type": "markdown",
   "metadata": {},
   "source": [
    "#### Element ekleme ve Silme"
   ]
  },
  {
   "cell_type": "markdown",
   "metadata": {},
   "source": [
    "- Listeye eleman eklemek için append() metodunu kullanmaktayız. Metod kavramını şimdilik nesnenin ya da değişkenin sonuna gelen komutlar olarak tanımlayabiliriz."
   ]
  },
  {
   "cell_type": "code",
   "execution_count": null,
   "metadata": {},
   "outputs": [],
   "source": [
    "Aylar.append('Yeni Ay')\n",
    "print(Aylar)"
   ]
  },
  {
   "cell_type": "markdown",
   "metadata": {},
   "source": [
    "#### Listede Değişiklik Yapma\n",
    "- Listenin bazı elemanlarına yeni değerler atayarak değişiklik yapabiliriz."
   ]
  },
  {
   "cell_type": "code",
   "execution_count": null,
   "metadata": {
    "scrolled": true
   },
   "outputs": [],
   "source": [
    "Aylar[0:2] = [\"1.Ay\", \"2.Ay\"]\n",
    "print(Aylar)"
   ]
  },
  {
   "cell_type": "markdown",
   "metadata": {},
   "source": [
    "- Listenim içine başka bir liste de eklenebilir."
   ]
  },
  {
   "cell_type": "code",
   "execution_count": null,
   "metadata": {},
   "outputs": [],
   "source": [
    "listem = [1,2,3,4,5,6,7,8,9]\n",
    "listem [4] = [10, 11]\n",
    "print(listem)"
   ]
  },
  {
   "cell_type": "markdown",
   "metadata": {},
   "source": [
    "#### Listeden Eleman Sİlme\n",
    "- `del()` fonksiyonu ile belirtilen indeks numarasındaki elemanları silebiliriz."
   ]
  },
  {
   "cell_type": "code",
   "execution_count": null,
   "metadata": {},
   "outputs": [],
   "source": [
    "listem = [1,2,3,4,5,6,7,8,9]\n",
    "del(listem[2:4])\n",
    "print(listem)"
   ]
  },
  {
   "cell_type": "markdown",
   "metadata": {},
   "source": [
    "#### Liste Yapısında Sıkça Kullanılan Metotlar/Fonksiyonlar\n",
    "<font color=green>__append()__ : </font>\n",
    "Bu metod, listeye yeni bir değer eklemek için kullanılır."
   ]
  },
  {
   "cell_type": "code",
   "execution_count": null,
   "metadata": {},
   "outputs": [],
   "source": [
    "harfler = ['a', 'b', 'c', 'd']\n",
    "harfler.append('e')\n",
    "print(harfler)"
   ]
  },
  {
   "cell_type": "markdown",
   "metadata": {},
   "source": [
    "<font color=green>__insert( )__ : </font> Listenin herhangi bir pozisyonuna yeni bir değer eklemek için kullanılır. Eklemek istediğimiz yeri ve değeri belirtiriz. SOnraki elemanların endeksi bir ileri kayar."
   ]
  },
  {
   "cell_type": "code",
   "execution_count": null,
   "metadata": {},
   "outputs": [],
   "source": [
    "sayilar = ['bir', 'iki', 'üç']\n",
    "sayilar.insert(2, 'iki buçuk')\n",
    "print(sayilar)"
   ]
  },
  {
   "cell_type": "markdown",
   "metadata": {},
   "source": [
    "<font color=green>__pop( )__ : </font> `.append()` metodunun tersidir. Listenin sonundaki elemanı listeden çıkarır."
   ]
  },
  {
   "cell_type": "code",
   "execution_count": null,
   "metadata": {},
   "outputs": [],
   "source": [
    "gorevler = [\"Ders Çalış\", \"Odayı düzelt\", \"Alışveriş yap\"]\n",
    "gorevler.pop()\n",
    "print(gorevler)"
   ]
  },
  {
   "cell_type": "markdown",
   "metadata": {},
   "source": [
    "<font color=green>__index( )__ : </font> Bu metod, verilen elemanın listede karşılaşılan ilk endeksini verir. "
   ]
  },
  {
   "cell_type": "code",
   "execution_count": null,
   "metadata": {},
   "outputs": [],
   "source": [
    "Aylar = ['Ocak', 'Şubat', 'Mart', 'Nisan', 'Mayıs', 'Haziran', 'Temmuz', \n",
    "         'Ağustos', 'Eylül', 'Ekim', 'Kasım', 'Aralık']\n",
    "print(Aylar.index('Mart'))"
   ]
  },
  {
   "cell_type": "markdown",
   "metadata": {},
   "source": [
    "<font color=green>__sort( )__ : </font> Listeyi sıralamak için kullanılır. String ifadeler alfabetik sıraya göre, sayılar küçükten büyüğe sıralanır. Tersten sıralamak için `sort()` metodundaki varsayılan olarak False olan `reverse=` değişkeni True yapılmalıdır. List içerisinde hem string hem de sayı varsa sıralama yapamayız."
   ]
  },
  {
   "cell_type": "code",
   "execution_count": null,
   "metadata": {},
   "outputs": [],
   "source": [
    "Aylar.sort()\n",
    "print(Aylar)\n",
    "Aylar.sort(reverse=True)\n",
    "print(Aylar)"
   ]
  },
  {
   "cell_type": "code",
   "execution_count": null,
   "metadata": {},
   "outputs": [],
   "source": [
    "Liste = ['Hello', 42, 3.414, True, None]\n",
    "#Liste.sort() \n",
    "# Listede sıralanamayacak değerler olduğundan hata alırız."
   ]
  },
  {
   "cell_type": "markdown",
   "metadata": {},
   "source": [
    "<font color=green>__join( )__ : </font> \n",
    "Bir listedeki her string elemanı birleştirmek için kullanılır."
   ]
  },
  {
   "cell_type": "code",
   "execution_count": null,
   "metadata": {},
   "outputs": [],
   "source": [
    "listem = [\"12\",\"1\",\"2017\"]\n",
    "tarih = \"/\".join(listem)\n",
    "\n",
    "print(tarih)"
   ]
  },
  {
   "cell_type": "markdown",
   "metadata": {},
   "source": [
    "<font color=green>__remove( )__ : </font> Değeri girilen elementi silmek için kullanılır. Elementin değerini liste ve index ile de belirtebiliriz  "
   ]
  },
  {
   "cell_type": "code",
   "execution_count": null,
   "metadata": {},
   "outputs": [],
   "source": [
    "listem = [\"a\", \"b\", \"c\", \"d\", \"e\", \"f\"] \n",
    "listem.remove(\"c\")\n",
    "print(listem)\n",
    "listem.remove(listem[1])\n",
    "print(listem)"
   ]
  },
  {
   "cell_type": "markdown",
   "metadata": {},
   "source": [
    "__Listeyi Genişletme__: \n",
    "- Listeyi $*$ işareti ile istediğimiz kadar genişletebiliriz. "
   ]
  },
  {
   "cell_type": "code",
   "execution_count": null,
   "metadata": {},
   "outputs": [],
   "source": [
    "listem = [\"a\", \"b\", \"c\", \"d\", \"e\", \"f\"] \n",
    "listem = listem * 3\n",
    "print(listem)"
   ]
  },
  {
   "cell_type": "markdown",
   "metadata": {},
   "source": [
    "__Listelerin Listesi (Çok boyutlu listeler)__\n",
    "- İçi içe istediğimiz kadar liste saklayabiliriz. Değerleri çağırmak için $[$ $]$'ler içinde indeksleri arka arkaya yazmamız gerekir. "
   ]
  },
  {
   "cell_type": "code",
   "execution_count": null,
   "metadata": {},
   "outputs": [],
   "source": [
    "ilkbahar = ['Mart', 'Nisan', 'Mayıs']\n",
    "yaz = ['Haziran', 'Temmuz','Ağustos']\n",
    "sonbahar = ['Eylül', 'Ekim', 'Kasım']\n",
    "kış = ['Aralık', 'Ocak', 'Şubat']\n",
    "mevsim_ayları = [ilkbahar, yaz, sonbahar, kış]\n",
    "print(mevsim_ayları)\n",
    "print(mevsim_ayları[2])\n",
    "print(mevsim_ayları[2][1])"
   ]
  },
  {
   "cell_type": "markdown",
   "metadata": {},
   "source": [
    "- Boş liste oluşturduğumuız gibi çoklu boş listeyi de $[[]]$ ile oluşturabiliriz."
   ]
  },
  {
   "cell_type": "code",
   "execution_count": null,
   "metadata": {},
   "outputs": [],
   "source": [
    "bos_liste = [[]]\n",
    "print(bos_liste)"
   ]
  },
  {
   "cell_type": "markdown",
   "metadata": {},
   "source": [
    "### <font color=blue>2.2. Sözlükler (Dictionaries)</font> <a id='dictionaries'></a>\n",
    "- Sözlük-Dictionary denince aklınıza normal sözlük kavramı gelebilir. Aslında mantık olarak da aynı diyebiliriz. Nasıl sözlükte bir kelime ve kaşılığında anlamı varsa, python'da kullanacağımız sözlüklerde de bir anahtar-key ve buna karşılık gelen bir değer ile karşılaşacağız.\n",
    "\n",
    "\n",
    "- Veri bilimi yolculuğumuzun başlarında listelere oranla daha az kullanacağımız sözlükleri ilerleyen aşamalarda çok daha yoğun olarak kullanacağız."
   ]
  },
  {
   "cell_type": "markdown",
   "metadata": {},
   "source": [
    "__Sözlük Oluşturma__\n",
    "- Sözlükler küme parantezi ile tanımlanır ve tanımlama key ve value belirtilerek yapılır.\n",
    "\n",
    "- Herhangi bir item belirtmeden boş bir sözlük oluşturulabilir."
   ]
  },
  {
   "cell_type": "code",
   "execution_count": null,
   "metadata": {},
   "outputs": [],
   "source": [
    "greetings = {\n",
    "        \"english\": \"hello\",\n",
    "        \"japanese\": \"こんにちは\",\n",
    "        \"german\": \"hallo\",\n",
    "        \"hindi\": \"नमस्ते\",\n",
    "        \"leet\": \"h3ll0\" }\n",
    "\n",
    "print(greetings)"
   ]
  },
  {
   "cell_type": "code",
   "execution_count": null,
   "metadata": {},
   "outputs": [],
   "source": [
    "bos_sozluk = {}\n",
    "print(bos_sozluk)"
   ]
  },
  {
   "cell_type": "markdown",
   "metadata": {},
   "source": [
    "__Veriye erişme__\n",
    "\n",
    "- Listelerin elemanlarına indeks numarası ile erişebiliiyorduk.  Sözlüklerin item'larına ise köşeli parantez içerisinde anahtar yazarak ulaşabiliriz. "
   ]
  },
  {
   "cell_type": "code",
   "execution_count": null,
   "metadata": {},
   "outputs": [],
   "source": [
    "meyve_fiyatlari = {\n",
    "    'elma': 5,\n",
    "    'portakal' : 3.5,\n",
    "    'muz' : 6,\n",
    "    'mandalina' : 2.5\n",
    "}\n",
    "\n",
    "print(meyve_fiyatlari['portakal'])"
   ]
  },
  {
   "cell_type": "markdown",
   "metadata": {},
   "source": [
    "- Bir anahtar: değer ikilisine item denilir. Sözlük içindeki herbir item virgül ile birbirinden ayrılır.\n",
    "\n",
    "- `.items()` ile tüm item'lara, `.keys()` ile tüm anahtarlara, `.values()` ile de tüm değerlere erişebiliriz.  "
   ]
  },
  {
   "cell_type": "code",
   "execution_count": null,
   "metadata": {
    "scrolled": true
   },
   "outputs": [],
   "source": [
    "print(meyve_fiyatlari.items(),'\\n')\n",
    "print(meyve_fiyatlari.keys(), '\\n')\n",
    "print(meyve_fiyatlari.values(),'\\n')"
   ]
  },
  {
   "cell_type": "markdown",
   "metadata": {},
   "source": [
    "- Bu değerleri `list()` ifadesi içerinde çağırarak liste elde edebiliriz."
   ]
  },
  {
   "cell_type": "code",
   "execution_count": null,
   "metadata": {},
   "outputs": [],
   "source": [
    "print(list(meyve_fiyatlari.items()),'\\n')\n",
    "print(list(meyve_fiyatlari.keys()), '\\n')\n",
    "print(list(meyve_fiyatlari.values()),'\\n')"
   ]
  },
  {
   "cell_type": "markdown",
   "metadata": {},
   "source": [
    "__Veri güncelleme__\n",
    "- Veriyi de benzer şekilde güncelleyebiliriz."
   ]
  },
  {
   "cell_type": "code",
   "execution_count": null,
   "metadata": {},
   "outputs": [],
   "source": [
    "meyve_fiyatlari['elma'] = 6\n",
    "\n",
    "print(meyve_fiyatlari)"
   ]
  },
  {
   "cell_type": "markdown",
   "metadata": {},
   "source": [
    "__Yeni item ekleme__\n",
    "\n",
    "- Sözlükde olmayan bir anahtara değer atayarak yeni bir item ekleyebiliriz.\n",
    "\n",
    "- `.update()` metodu ile de yeni item ekleyebiliriz."
   ]
  },
  {
   "cell_type": "code",
   "execution_count": null,
   "metadata": {},
   "outputs": [],
   "source": [
    "meyve_fiyatlari['armut'] = 4\n",
    "meyve_fiyatlari.update({'üzüm':4.5})\n",
    "print(meyve_fiyatlari)"
   ]
  },
  {
   "cell_type": "markdown",
   "metadata": {},
   "source": [
    "__Item Silme__\n",
    "\n",
    "- `del` anahtar kelimesi ile istediğimiz item silinebilir. "
   ]
  },
  {
   "cell_type": "code",
   "execution_count": null,
   "metadata": {},
   "outputs": [],
   "source": [
    "del meyve_fiyatlari['muz']\n",
    "\n",
    "print(meyve_fiyatlari)"
   ]
  },
  {
   "cell_type": "markdown",
   "metadata": {},
   "source": [
    "__Sözlükte Olup olmadığını Kontrol__\n",
    "\n",
    "- `in`ve `not`operatörleri ile bir anahtarın sözlükte olup olmadığını kontrol edebiliriz."
   ]
  },
  {
   "cell_type": "code",
   "execution_count": null,
   "metadata": {},
   "outputs": [],
   "source": [
    "print('elma' in meyve_fiyatlari)\n",
    "\n",
    "print('muz' not in meyve_fiyatlari)"
   ]
  },
  {
   "cell_type": "markdown",
   "metadata": {},
   "source": [
    "__İç içe sözlükler__\n",
    "\n",
    "- İç içe sözlükler tanımlamak mümkündür. Bu şekilde olan sözlüklerle ileride çok sık çalışacağız.\n",
    "\n",
    "- İç sözlüklere erişmek için sıralı köşeli parantezler kullanabiliriz."
   ]
  },
  {
   "cell_type": "code",
   "execution_count": null,
   "metadata": {},
   "outputs": [],
   "source": [
    "bank_records={\n",
    "    \"personal_info\": {\n",
    "        \"kids\":{\"ali\": {\"school\":\"ortaokul\", \"age\":12},\n",
    "                \"ayse\": {\"school\":\"lise\", \"age\":16}\n",
    "               }\n",
    "                \n",
    "    },\n",
    "}\n",
    "print(bank_records,'\\n')\n",
    "\n",
    "print(bank_records[\"personal_info\"][\"kids\"][\"ali\"][\"age\"])"
   ]
  },
  {
   "cell_type": "markdown",
   "metadata": {},
   "source": [
    "- Sözlükler değer olarak listelere bulundurabilir."
   ]
  },
  {
   "cell_type": "code",
   "execution_count": null,
   "metadata": {},
   "outputs": [],
   "source": [
    "buyuk_sehirler = {'Türkiye' : [\"İstanbul\", \"Ankara\", \"İzmir\"], 'İspanya': ['Madrid', \"Barselona\"]}"
   ]
  },
  {
   "cell_type": "markdown",
   "metadata": {},
   "source": [
    "### <font color=blue>2.3. Demetler (Tuples)</font> <a id='tuple'></a>\n",
    "- Tuple listeye çok benzeyen birden çok verinin tutulabildiği başka yapıdır.\n",
    "\n",
    "\n",
    "- Liste'den en önemli farkı tuple'ın değişmez olmasıdır.  Dolayısıyla `append()`, `remove()`, `pop()` gibi metodlar tuple'da yoktur.  \n",
    "\n",
    "\n",
    "- Değişmeyecek verilerimiz varsa tuple tercih etmeliyiz. Çünkü listelerden çok daha hızlıdır.\n",
    "\n",
    "\n",
    "- Listeleri tanımlarken köşeli parantez $[$ $]$ kullanıyorduk. Tuple'da ise normal parantez  $($ $)$ kullanılır"
   ]
  },
  {
   "cell_type": "code",
   "execution_count": null,
   "metadata": {},
   "outputs": [],
   "source": [
    "my_tuple=(1,4,3,4,5,6,7,4)\n",
    "\n",
    "print(my_tuple)"
   ]
  },
  {
   "cell_type": "markdown",
   "metadata": {},
   "source": [
    "- Tuple'da sadece iki metod vardır. : `index()` ve `count()`. \n",
    "\n",
    "- `ìndex()` metodu ile girilen bir değerin tuple içerisindeki ilk index numarasını, `count()` metodu ile ise girilen bir değerden tuple içerisinde kaç tane olduğunu öğrenebiliriz."
   ]
  },
  {
   "cell_type": "code",
   "execution_count": null,
   "metadata": {},
   "outputs": [],
   "source": [
    "print('Index:', my_tuple.index(4), \"\\n\")\n",
    "print('Count:', my_tuple.count(4))"
   ]
  },
  {
   "cell_type": "markdown",
   "metadata": {},
   "source": [
    "- Liste ile tuple arasında kolaylıkla dönüşüm yapılabilir."
   ]
  },
  {
   "cell_type": "code",
   "execution_count": null,
   "metadata": {},
   "outputs": [],
   "source": [
    "my_tuple=(1,4,3,4,5,6,7,4)\n",
    "\n",
    "my_list = list(my_tuple)\n",
    "\n",
    "print(type(my_list), my_list)"
   ]
  },
  {
   "cell_type": "code",
   "execution_count": null,
   "metadata": {},
   "outputs": [],
   "source": [
    "my_tuple = tuple(my_list)\n",
    "\n",
    "print(type(my_tuple), my_tuple)"
   ]
  },
  {
   "cell_type": "markdown",
   "metadata": {},
   "source": [
    "### <font color=blue>2.4. Kümeler (Sets)</font> <a id='set'></a>"
   ]
  },
  {
   "cell_type": "markdown",
   "metadata": {},
   "source": [
    "- Küme (Set)'ler matematikteki kümelere benzerler. İçinde birden çok veri tutabiliriler ancak bir değerden yalnızca 1 adet bulundururlar."
   ]
  },
  {
   "cell_type": "markdown",
   "metadata": {},
   "source": [
    "__Küme Oluşturmak__\n",
    "\n",
    "- `set()` komutu kullanarak boş bir küme oluşturabiliriz."
   ]
  },
  {
   "cell_type": "code",
   "execution_count": null,
   "metadata": {},
   "outputs": [],
   "source": [
    "boş_küme = set ()\n",
    "type(boş_küme)"
   ]
  },
  {
   "cell_type": "markdown",
   "metadata": {},
   "source": [
    "- Kümeye öğe eklemek için `set()` içerisine köşeli parantez içerisinde öğeleri yazmak yeterlidir. "
   ]
  },
  {
   "cell_type": "code",
   "execution_count": null,
   "metadata": {},
   "outputs": [],
   "source": [
    "meyveler = set(['elma', 'armut', 'portakal','kiraz', 'vişne'])\n",
    "print(meyveler)\n",
    "print(type(meyveler))"
   ]
  },
  {
   "cell_type": "markdown",
   "metadata": {},
   "source": [
    "- Listelerden ve tuple'lardan set oluşturabiliriz."
   ]
  },
  {
   "cell_type": "code",
   "execution_count": null,
   "metadata": {},
   "outputs": [],
   "source": [
    "my_tuple=(1,4,3,4,5,6,7,4)\n",
    "my_list=[1,4,3,4,5,6,7,4]"
   ]
  },
  {
   "cell_type": "markdown",
   "metadata": {},
   "source": [
    "- Bir metindeki harfleri ve karakterleri kolaylıkla kümeye aktarabiliriz."
   ]
  },
  {
   "cell_type": "code",
   "execution_count": null,
   "metadata": {},
   "outputs": [],
   "source": [
    "karakterler = \"Veri Bilimi Bootcamp\"\n",
    "küme = set(karakterler)\n",
    "print(küme)"
   ]
  },
  {
   "cell_type": "markdown",
   "metadata": {},
   "source": [
    "Karakterlerin belirli bir sırası olmaması dikkatinizi çekmiştir. Kümelerde sıralama yoktur."
   ]
  },
  {
   "cell_type": "markdown",
   "metadata": {},
   "source": [
    "__Kümelerde Kullanabileceğimiz Metodlar__\n",
    "\n",
    "- <font color=green>__remove( )__ : </font> Sözlükerdeki gibi kümenin içini boşaltır.\n",
    "\n",
    "- <font color=green>__add( )__ : </font> Kümeye yeni bir öğe ekler.\n",
    "\n",
    "- <font color=green>__difference( )__ : </font> İki kümenin farkını alır.\n",
    "\n",
    "- <font color=green>__discard( )__ : </font> Bir öğeyi silmemizi sağlar.\n",
    "\n",
    "- <font color=green>__intersection( )__ : </font> İki kümenin keişimini verir.\n",
    "\n",
    "- <font color=green>__union( )__ : </font> İki kümenin birşleşimini verir."
   ]
  },
  {
   "cell_type": "markdown",
   "metadata": {},
   "source": [
    "## <font color=red>3. Koşullu İfadeler (Conditional States) ve Döngüler (Loops)</font> <a id='conditional_loop'></a>\n",
    "\n",
    "__Koşullu İfadeler__ \n",
    "\n",
    "Python programlama dilinde kosullu durumları belirtmek için üç adet deyimden\n",
    "yararlanıyoruz:\n",
    "- if\n",
    "- elif\n",
    "- else\n",
    "\n",
    "__Döngü__\n",
    "\n",
    "Bir işlemin yada sürecin tekrar tekrar devam etmesi dmngüler sayesinde olur.  Python’da iki tane döngü bulunur: `while` ve `for`"
   ]
  },
  {
   "cell_type": "markdown",
   "metadata": {},
   "source": [
    "### <font color=blue>3.1. if-else statement </font> <a id='if'></a>\n",
    "\n",
    "\n",
    "__if__ \n",
    "- Koşullu ifadeler en çok kullanacağımız yapılardan biridir. \"If\"  vani \"eğer\" kelime anlamı olarak ne anlama geliyorsa programlama dillerinde de aynı anlama geliyor diyebiliriz.\n",
    "    \n",
    "    `If so, do that`\n",
    "    \n",
    "    `Eğer öylesese, şunu yap`"
   ]
  },
  {
   "cell_type": "markdown",
   "metadata": {},
   "source": [
    "- Genel olarak \"if\" ifadelerinde iki kısım vardır:  \"Koşul\" ve \"yapılacak işlem\". \n",
    "\n",
    "\n",
    "- `if` ifadesinden sonra  iki nokta üstüste (:) konulmalı ve yapılması istenen işlemler satırdan içeriye doğru girintili yazılmalıdır.  "
   ]
  },
  {
   "cell_type": "code",
   "execution_count": null,
   "metadata": {},
   "outputs": [],
   "source": [
    "sayi = 6\n",
    "if sayi > 5:   # Koşul\n",
    "    print (\"Sayı 5'ten büyüktür.\") # Yapılması istenen işlem "
   ]
  },
  {
   "cell_type": "markdown",
   "metadata": {},
   "source": [
    "- Koşul kısmında yazılan ifadenin True ya da False bir değer döndürmesi gerekir. Burada daha önce bahsettiğimiz karşılaştırma operatörlerini kullanabileceğimiz gibi Boolean olan tüm ifadeler kullanılabilir.   "
   ]
  },
  {
   "cell_type": "code",
   "execution_count": null,
   "metadata": {},
   "outputs": [],
   "source": [
    "bugün = \"Pazar\"\n",
    "if bugün == \"Pazar\":\n",
    "    print ('Bugün tatil')"
   ]
  },
  {
   "cell_type": "code",
   "execution_count": null,
   "metadata": {},
   "outputs": [],
   "source": [
    "Sınav_Basarısı = True\n",
    "if Sınav_Basarısı:\n",
    "    print(\"Sınavda başarılı oldu\")"
   ]
  },
  {
   "cell_type": "markdown",
   "metadata": {},
   "source": [
    "__elif__\n",
    "\n",
    "- `if` ifadesi ile belli bir şart gerçekleşince yapılması istenen işlemleri belirledik. Peki şart gerçekleşmezse ne olacak? `elif` de bize bunu sağlayan ifadelerden biri. \n",
    "\n",
    "\n",
    "- \"Else If\" ifadesinin kısaltılmışı olan `elif` bize daha önceki koşul gerçekleşmediyse yeni koşul belirlememizi sağlamaktadır.\n",
    "\n",
    "\n",
    "- Eğer üstteki koşul geçerliyse sonraki koşullara hiç bakılmaz. "
   ]
  },
  {
   "cell_type": "code",
   "execution_count": null,
   "metadata": {},
   "outputs": [],
   "source": [
    "sayi = 2\n",
    "if sayi > 5:   \n",
    "    print (\"Sayı 5'ten büyüktür.\") \n",
    "elif sayi < 5:\n",
    "    print (\"Sayı 5'ten küçüktür.\") "
   ]
  },
  {
   "cell_type": "markdown",
   "metadata": {},
   "source": [
    "__else__\n",
    "\n",
    "- Koşul bildiren ifadelerde belirtilen kuşullar sağlanmazsa kalan durumlar için birşey yapılması için else ifadesini kullanabiliriz. "
   ]
  },
  {
   "cell_type": "code",
   "execution_count": null,
   "metadata": {},
   "outputs": [],
   "source": [
    "sayi = 2\n",
    "if sayi > 5:   \n",
    "    print (\"Sayı 5'ten büyüktür.\") \n",
    "else :\n",
    "    print (\"Sayı 5'ten büyük değildir.\") "
   ]
  },
  {
   "cell_type": "markdown",
   "metadata": {},
   "source": [
    "Sayıyı kullanıcıdan alalım."
   ]
  },
  {
   "cell_type": "code",
   "execution_count": null,
   "metadata": {},
   "outputs": [],
   "source": [
    "sayi = int(input(\"Bir sayı giriniz: \"))\n",
    "if sayi > 10:   \n",
    "    print (\"Sayı 10'dan büyüktür.\") \n",
    "elif sayi < 10:\n",
    "    print (\"Sayı 10'dan küçüktür.\") \n",
    "else :\n",
    "    print (\"Sayı 10'a eşittir.\")"
   ]
  },
  {
   "cell_type": "markdown",
   "metadata": {},
   "source": [
    "- `if` ve `else` sadece bir kez kullanılabilirken `elif` için bir sınırlama yoktur. \n",
    "- İç içe if ifadeleri kullanılabilir. Ancak girintilere dikkat etmek gerekir."
   ]
  },
  {
   "cell_type": "code",
   "execution_count": null,
   "metadata": {},
   "outputs": [],
   "source": [
    "a = 2\n",
    "b = a>1\n",
    "c = 6>5\n",
    "d = a>3\n",
    "\n",
    "if b or c:\n",
    "    print (\"a is greater than 1\")\n",
    "    \n",
    "    if b*c:\n",
    "        print (\"c is true\")\n",
    "        \n",
    "elif d:\n",
    "    print (\"a is not greater than 1\")\n",
    "    \n",
    "elif c==True:\n",
    "    print (\"a is not greater than 5\")\n",
    "    \n",
    "else:\n",
    "    print (\"a is equal to 0\")"
   ]
  },
  {
   "cell_type": "code",
   "execution_count": null,
   "metadata": {},
   "outputs": [],
   "source": [
    "score = int (input(\"Notunuzu girin :\"))\n",
    "\n",
    "if score>90:\n",
    "    if score>95:\n",
    "        grade=\"A+\"\n",
    "    else:\n",
    "        grade=\"A\"\n",
    "elif score>80:\n",
    "    if score>85:\n",
    "        grade=\"B+\"\n",
    "    else:\n",
    "        grade=\"B\"\n",
    "else:\n",
    "    grade=\"B altı\"\n",
    "    \n",
    "print (\"Not karşılığı: %s\" %grade)"
   ]
  },
  {
   "cell_type": "markdown",
   "metadata": {},
   "source": [
    "### <font color=blue>3.2. for-loop </font> <a id='for'></a>"
   ]
  },
  {
   "cell_type": "markdown",
   "metadata": {},
   "source": [
    "- `for` döngüsü içerisinde sıralanabilecek elemanların olduğu verilerin/veri yapılarında döngü oluşturmak için kullanılır. Bu yap, bir string, liste, demet, sözlük ya da bir küme olabilir.\n"
   ]
  },
  {
   "cell_type": "markdown",
   "metadata": {},
   "source": [
    "__Liste ile `for` döngüsü__"
   ]
  },
  {
   "cell_type": "code",
   "execution_count": null,
   "metadata": {},
   "outputs": [],
   "source": [
    "isimler = [\"Ahmet\", \"Ayşe\", \"Hagi\"]\n",
    "for isim in isimler:\n",
    "    selam = \"Mehaba \" + isim\n",
    "    print(selam)"
   ]
  },
  {
   "cell_type": "code",
   "execution_count": null,
   "metadata": {},
   "outputs": [],
   "source": [
    "isimler = [\"Ahmet\", \"Ayşe\", \"Hagi\"]\n",
    "for isim in isimler:\n",
    "    print(\"Herkese merhaba\")"
   ]
  },
  {
   "cell_type": "markdown",
   "metadata": {},
   "source": [
    "__String ile `for` döngüsü__"
   ]
  },
  {
   "cell_type": "code",
   "execution_count": null,
   "metadata": {},
   "outputs": [],
   "source": [
    "for character in \"Züccaciye\":\n",
    "    print(character)"
   ]
  },
  {
   "cell_type": "markdown",
   "metadata": {},
   "source": [
    "__`range()` ile `for` döngüsü__"
   ]
  },
  {
   "cell_type": "code",
   "execution_count": null,
   "metadata": {},
   "outputs": [],
   "source": [
    "for n in range(10):\n",
    "    print(\"n is: {}\".format(n))"
   ]
  },
  {
   "cell_type": "markdown",
   "metadata": {},
   "source": [
    "__Sözlük ile `for` döngüsü__"
   ]
  },
  {
   "cell_type": "code",
   "execution_count": null,
   "metadata": {},
   "outputs": [],
   "source": [
    "user = {\n",
    "    \"name\": \"Ahmet\",\n",
    "    \"role\": \"Kodaman\",\n",
    "    \"age\": 35\n",
    "}\n",
    "\n",
    "for property in user:\n",
    "    print(property)"
   ]
  },
  {
   "cell_type": "markdown",
   "metadata": {},
   "source": [
    "Yukarıdaki örnekte sadece anahtarların yazdırılmadığı sadece değerlerin yazıldığını farketmişsinizdir. Anahtarları da tabi ki yazdırabiliriz."
   ]
  },
  {
   "cell_type": "code",
   "execution_count": null,
   "metadata": {},
   "outputs": [],
   "source": [
    "for x in user.values():\n",
    "    \n",
    "    print (x, end=\" \")"
   ]
  },
  {
   "cell_type": "markdown",
   "metadata": {},
   "source": [
    "Hem anahtar, hem de değeri görmek istersek şöyle yapabiliriz. "
   ]
  },
  {
   "cell_type": "code",
   "execution_count": null,
   "metadata": {},
   "outputs": [],
   "source": [
    "for key, value in user.items():\n",
    "    print (key,\":\",value)"
   ]
  },
  {
   "cell_type": "markdown",
   "metadata": {},
   "source": [
    "__Yazdırmak dışında çok şey yapabilririz__"
   ]
  },
  {
   "cell_type": "code",
   "execution_count": null,
   "metadata": {},
   "outputs": [],
   "source": [
    "even_numbers = []\n",
    "odd_squares = []\n",
    "\n",
    "for n in range(10):\n",
    "    if n % 2 == 0:\n",
    "        even_numbers.append(n)\n",
    "    else:\n",
    "        odd_squares.append(n ** 2)\n",
    "\n",
    "print(even_numbers)\n",
    "print(odd_squares)"
   ]
  },
  {
   "cell_type": "markdown",
   "metadata": {},
   "source": [
    "__`range()` ile yapabileceklerimiz.__\n",
    "\n",
    "- Daha önce `range()` fonksiyonundan kısaca bahsetmiştik. `for` döngüsünde sıklıkla kullanacağımız bir fonksiyon olduğundan biraz daha detaylı bakalım."
   ]
  },
  {
   "cell_type": "code",
   "execution_count": null,
   "metadata": {
    "scrolled": true
   },
   "outputs": [],
   "source": [
    "for x in set(range(8)):\n",
    "    print (x)"
   ]
  },
  {
   "cell_type": "markdown",
   "metadata": {},
   "source": [
    "- `range()` fonksiyonunun bir liste döndürdüğünü biliyoruz."
   ]
  },
  {
   "cell_type": "code",
   "execution_count": null,
   "metadata": {},
   "outputs": [],
   "source": [
    "list(range(10))"
   ]
  },
  {
   "cell_type": "markdown",
   "metadata": {},
   "source": [
    "- Başına  $*$ koyarak öğelerine ayrılmış olarak yazılmasını sağlayabiliriz."
   ]
  },
  {
   "cell_type": "code",
   "execution_count": null,
   "metadata": {},
   "outputs": [],
   "source": [
    "print(*range(10))"
   ]
  },
  {
   "cell_type": "markdown",
   "metadata": {},
   "source": [
    "- İkinci parametre ile bitişi belirleyebilriz."
   ]
  },
  {
   "cell_type": "code",
   "execution_count": null,
   "metadata": {},
   "outputs": [],
   "source": [
    "print(*range(3,10))  # prints the numbers from 3 to 9"
   ]
  },
  {
   "cell_type": "markdown",
   "metadata": {},
   "source": [
    "- Üçüncü parametre ile kaçar kaçar atlayacağını belirleyebilriz."
   ]
  },
  {
   "cell_type": "code",
   "execution_count": null,
   "metadata": {
    "scrolled": true
   },
   "outputs": [],
   "source": [
    "print(*range(3,20,2))"
   ]
  },
  {
   "cell_type": "markdown",
   "metadata": {},
   "source": [
    "- Geriye doğruda yazdırabiliriz."
   ]
  },
  {
   "cell_type": "code",
   "execution_count": null,
   "metadata": {},
   "outputs": [],
   "source": [
    "print(*range(10,0,-2))"
   ]
  },
  {
   "cell_type": "markdown",
   "metadata": {},
   "source": [
    "__Birden fazla liste ile  döngü__\n",
    "\n",
    "Aynı anda iki listenin elemanlarını da döngüye sokmak istediğimizde listeleri `zip()` ile birleştirip for döngüsüne alabiliriz. \n"
   ]
  },
  {
   "cell_type": "code",
   "execution_count": null,
   "metadata": {},
   "outputs": [],
   "source": [
    "harfler = ['a','b','c','d','e']\n",
    "rakamlar = [1,2,3,4,5]\n",
    "for x,y in zip(harfler,rakamlar):\n",
    "    print (x,y)"
   ]
  },
  {
   "cell_type": "markdown",
   "metadata": {},
   "source": [
    "__<font color=red>--- Alıştırma .. ---</font>__\n",
    "\n",
    "1'den 100'e kadar olan sayıların toplamını bulun."
   ]
  },
  {
   "cell_type": "code",
   "execution_count": null,
   "metadata": {},
   "outputs": [],
   "source": []
  },
  {
   "cell_type": "code",
   "execution_count": null,
   "metadata": {},
   "outputs": [],
   "source": [
    "toplam=0\n",
    "\n",
    "for x in range(1,101):\n",
    "    toplam +=x   \n",
    "\n",
    "print(toplam)"
   ]
  },
  {
   "cell_type": "markdown",
   "metadata": {},
   "source": [
    "__<font color=red>--- Alıştırma .. ---</font>__\n",
    "\n",
    "Biraz daha zor bir alıştırma yapalım. 1'den 100'e kadar olan asal sayıları yazdıralım"
   ]
  },
  {
   "cell_type": "code",
   "execution_count": null,
   "metadata": {},
   "outputs": [],
   "source": [
    "for x in range(1,101):\n",
    "    count=0\n",
    "    if x<=2:\n",
    "        print (x,end=\" \")\n",
    "    elif x%2!=0:\n",
    "        for y in range(2,x//2):\n",
    "            if (x%y)==0:\n",
    "                count+=1\n",
    "        if count==0:\n",
    "            print (x, end=\" \")"
   ]
  },
  {
   "cell_type": "markdown",
   "metadata": {},
   "source": [
    "### <font color=blue>3.3. while-loop </font> <a id='while'></a>\n"
   ]
  },
  {
   "cell_type": "markdown",
   "metadata": {},
   "source": [
    "- `while()` belirtilen bir Boolean ifadenin True olduğu sürece belirtilen işlemlerin yapılmasını sağlar.\n",
    "\n",
    "- `for` döngüsü kadar sık kullanmayacağız.\n",
    "\n",
    "- `for` döngüsünü belirli bir veri yapısı üzerinde çağırabilirken, while döngüsünü herhangi bir değişkenle çağırabiliriz. \n"
   ]
  },
  {
   "cell_type": "code",
   "execution_count": null,
   "metadata": {},
   "outputs": [],
   "source": [
    "x = 0 \n",
    "\n",
    "while (x < 5):\n",
    "    print(\"x:\",x)\n",
    "    x += 1 "
   ]
  },
  {
   "cell_type": "markdown",
   "metadata": {},
   "source": [
    "Eğer döngü değişkeninden bir değişiklik yapmayı unutursak sonsuz bir döngüyü başlatabiliriz."
   ]
  },
  {
   "cell_type": "markdown",
   "metadata": {},
   "source": [
    "__Bir liste ya da sözlük üzerinde döngü çağırma__"
   ]
  },
  {
   "cell_type": "code",
   "execution_count": null,
   "metadata": {},
   "outputs": [],
   "source": [
    "my_list=[\"a\",\"b\",\"c\",\"d\",\"e\",\"f\"]\n",
    "\n",
    "x=0\n",
    "\n",
    "wbhile x< len(my_list):\n",
    "    \n",
    "    print (x**2)\n",
    "    \n",
    "    x+=1"
   ]
  },
  {
   "cell_type": "markdown",
   "metadata": {},
   "source": [
    "`for` döngüsünün listeye daha uygun olduğunu farketmişinizdir."
   ]
  },
  {
   "cell_type": "markdown",
   "metadata": {},
   "source": [
    "- `while()` döngüsünün en çok kullanışlı olduğu kullanım yerlerinden biri kullanıcıdan bilgi almaktır."
   ]
  },
  {
   "cell_type": "code",
   "execution_count": null,
   "metadata": {},
   "outputs": [],
   "source": [
    "yas=input(\"Lütfen yaşınızı girin:\")\n",
    "\n",
    "while not yas.isdigit():\n",
    "    \n",
    "    a=input(\"please enter your age:\")\n",
    "\n",
    "print(\"You entered a valid age !\")"
   ]
  },
  {
   "cell_type": "markdown",
   "metadata": {},
   "source": [
    "__<font color=red>--- Güzel Bir Uygulama ..3 ---</font>__\n",
    "\n",
    "Numara tahmin oyunu yapalım..."
   ]
  },
  {
   "cell_type": "code",
   "execution_count": null,
   "metadata": {},
   "outputs": [],
   "source": [
    "target=123\n",
    "counter=1\n",
    "a=input(\"Tahmininzi girin: \")\n",
    "\n",
    "while not a.isdigit():\n",
    "     a=input(\"Tahmininzi girin: \")\n",
    "\n",
    "while int(a)!=target:\n",
    "    if int(a) < target:\n",
    "        print (\"Yanlış tahmin! Lütfen daha büyük bir tahmin yapın...\")\n",
    "    else:\n",
    "        print (\"Yanlış tahmin! Lütfen daha küçük bir tahmin yapın...\")\n",
    "    a=input(\"Tahmininzi girin: \")\n",
    "    while not a.isdigit():\n",
    "        a=input(\"Tahmininzi girin: \")\n",
    "    counter+=1\n",
    "print (\" Bravo!!! %d deneme sonunda bildiniz...\" %counter)        "
   ]
  },
  {
   "cell_type": "markdown",
   "metadata": {},
   "source": [
    "## <font color=red>4. List and Dict Comprehensions</font><a id='comprehensions'></a>\n"
   ]
  },
  {
   "cell_type": "markdown",
   "metadata": {},
   "source": [
    "- Liste Üreteçleri olarak çevirebileceğimiz List Comprehension'lar, sık sık kullanacağımız ve işimizi oldukça kolaylaştıracak bir yapıdır.\n",
    "\n",
    "\n",
    "- Kısaca görevi liste üretmektir. Genel olarak kullanım şeklimiz istediğimiz değerleri istediğimiz şekilde bir listeye atmak şeklinde olacaktır. Böylece tamamen bizim kriterlerimize uyan bir liste ortaya çıkacaktır. \n",
    "\n",
    "\n",
    "- Aşağıda iki farklı şekilde 1'den 10'a kadar olan sayılarıın karesini içeren bir liste yapacağız: "
   ]
  },
  {
   "cell_type": "code",
   "execution_count": null,
   "metadata": {},
   "outputs": [],
   "source": [
    "new_list=[]\n",
    "for x in range(1,11):\n",
    "    new_list.append(x**2)\n",
    "print (*new_list)\n",
    "\n",
    "new_list = [x**2 for x in range(1,11)]\n",
    "print (*new_list)"
   ]
  },
  {
   "cell_type": "markdown",
   "metadata": {},
   "source": [
    "İki şekilde de bunu yapabildik. Ancak ikinci yöntemin daha kolay olduğunu farketmişsinizdir. Aslına bu fark daha karmaşık listelerde daha çok ortaya çıkacak. "
   ]
  },
  {
   "cell_type": "markdown",
   "metadata": {},
   "source": [
    "- List Comprehension'ın içine koşul ifadesi koyabiliriz. Sadece ikinin katlarının karesini listemize alalım."
   ]
  },
  {
   "cell_type": "code",
   "execution_count": null,
   "metadata": {},
   "outputs": [],
   "source": [
    "new_list = [x**2 for x in range(1,11) if x%2==0] \n",
    "\n",
    "new_list"
   ]
  },
  {
   "cell_type": "markdown",
   "metadata": {},
   "source": [
    "- `for()` ifadesinin sol tarafına da koşul koyabiliriz. Çift rakamların karesini, tek rakamların küpünü alalım.   "
   ]
  },
  {
   "cell_type": "code",
   "execution_count": null,
   "metadata": {},
   "outputs": [],
   "source": [
    "new_list = [x**2 if x % 2 == 0 else x**3 for x in range(1,11)]\n",
    "\n",
    "new_list"
   ]
  },
  {
   "cell_type": "markdown",
   "metadata": {},
   "source": [
    "- İç içe List Comprehension'lar yapabilriz."
   ]
  },
  {
   "cell_type": "code",
   "execution_count": null,
   "metadata": {},
   "outputs": [],
   "source": [
    "print([[x for x in range(10)] for y in range(10)])"
   ]
  },
  {
   "cell_type": "markdown",
   "metadata": {},
   "source": [
    "- Listelerde Hazır (built-in) fonksiyonları kullnabiliriz."
   ]
  },
  {
   "cell_type": "code",
   "execution_count": null,
   "metadata": {},
   "outputs": [],
   "source": [
    "sum([x**2 if x % 2 == 0 else x**3 for x in range(1,11)])"
   ]
  },
  {
   "cell_type": "markdown",
   "metadata": {},
   "source": [
    "- İç içe for döngüleri kullanarak list comprehension yapalım."
   ]
  },
  {
   "cell_type": "code",
   "execution_count": null,
   "metadata": {},
   "outputs": [],
   "source": [
    "nested_list=[[1,2,3,4,5],[6,7,8,9,10]]\n",
    "for inner_list in nested_list:\n",
    "    for item in inner_list:\n",
    "        print (item, end=\" \")"
   ]
  },
  {
   "cell_type": "markdown",
   "metadata": {},
   "source": [
    "Listedeki elemanları iç içe for döngüsü ile yazdırdık. Aynı işlemi list comprehension ile yapalım.\n",
    "\n",
    "Prensip aynı : İç içe for döngüsünde hangi sırayla yapıyorsan aynı sırayla yap!"
   ]
  },
  {
   "cell_type": "code",
   "execution_count": null,
   "metadata": {},
   "outputs": [],
   "source": [
    "items=[item for inner_list in nested_list for item in inner_list]\n",
    "print (items)"
   ]
  },
  {
   "cell_type": "markdown",
   "metadata": {},
   "source": [
    "Unutmayın, dıştan içe gidiyoruz."
   ]
  },
  {
   "cell_type": "markdown",
   "metadata": {},
   "source": [
    "- Dict comprehension da aynı şekilde yapılabilir. "
   ]
  },
  {
   "cell_type": "code",
   "execution_count": null,
   "metadata": {},
   "outputs": [],
   "source": [
    "d = {'a':1,'b':2,'c':3}\n",
    "d = {key:value*2 for (key,value) in d.items() if value > 2}\n",
    "\n",
    "print(d)"
   ]
  },
  {
   "cell_type": "code",
   "execution_count": null,
   "metadata": {},
   "outputs": [],
   "source": [
    "{x: x**3 for x in range(10)}"
   ]
  },
  {
   "cell_type": "markdown",
   "metadata": {},
   "source": [
    "## <font color=red>5. Dosyadan Okuma/Dosyaya Yazma (Input/Output İşlemleriOperations</font><a id='io'></a>\n"
   ]
  },
  {
   "cell_type": "markdown",
   "metadata": {},
   "source": [
    "Bu kısımda,\n",
    "- Dosyayı açmayı, \n",
    "- Dosyadan okumayı, \n",
    "- Dosyaya yazmayı ve ekleme yapmayı ve  \n",
    "- Dosyayı kapatmayı öğreneceğiz."
   ]
  },
  {
   "cell_type": "markdown",
   "metadata": {},
   "source": [
    "Jupyter dosyasının olduğu klasörde \"davet.txt\" isimli bir dosyanın içeriğinde Nazım Hikmet'in 'Davet' isimli şiiri bulunmaktadır:\n",
    "\"davet.txt\" :\n",
    "\n",
    "        Dörtnala gelip Uzak Asya'dan \n",
    "        Akdeniz'e bir kısrak başı gibi uzanan\n",
    "                bu memleket, bizim.\n",
    "        Bilekler kan içinde, dişler kenetli, ayaklar çıplak\n",
    "        ve ipek bir halıya benziyen toprak,\n",
    "                bu cehennem, bu cennet bizim.\n",
    "        Kapansın el kapıları, bir daha açılmasın,\n",
    "        yok edin insanın insana kulluğunu,\n",
    "                bu dâvet bizim....\n",
    "        Yaşamak bir ağaç gibi tek ve hür\n",
    "        ve bir orman gibi kardeşçesine,\n",
    "                bu hasret bizim..."
   ]
  },
  {
   "cell_type": "markdown",
   "metadata": {},
   "source": [
    "__Dosyayı açma__\n",
    "\n",
    "- Herhangi bir dosya yolu belirmediğimizden notebook dosyasının olduğu klasöre bakılır.\n",
    "- `\"C:/davet.txt\"` gibi dosya yolu ile birlikte de kullanabiliriz."
   ]
  },
  {
   "cell_type": "code",
   "execution_count": null,
   "metadata": {},
   "outputs": [],
   "source": [
    "f = open(\"davet.txt\")"
   ]
  },
  {
   "cell_type": "markdown",
   "metadata": {},
   "source": [
    "Dosyayı açmak için `open()` komutunu kullanacağız. Ancak yanına ne maksatla açtığımızı belirten bir parametre gerekmektedir.\n",
    "\n",
    "- `'r'\t`: Okumak için açma (default)\n",
    "- `'w'\t`: Yazmak için açma. Böyle bir dosya yoksa olarak oluşturur. Varsa da üzerine yazar.\n",
    "- `'a'\t`: Dosyanın sonuna ekleme yapmak için açma. Dosya varsa sonuna ekler yoksa oluşturur."
   ]
  },
  {
   "cell_type": "markdown",
   "metadata": {},
   "source": [
    "__Dosyayı Okuma__"
   ]
  },
  {
   "cell_type": "code",
   "execution_count": null,
   "metadata": {},
   "outputs": [],
   "source": [
    "f = open(\"davet.txt\", \"r\") # we open the file in reading mode"
   ]
  },
  {
   "cell_type": "markdown",
   "metadata": {},
   "source": [
    "Dosyayı okuma modunda açtık. İşimiz bitince beklenmedik problemlerle karşılaşmamak için kapatmamız gerekir."
   ]
  },
  {
   "cell_type": "code",
   "execution_count": null,
   "metadata": {},
   "outputs": [],
   "source": [
    "f.close()"
   ]
  },
  {
   "cell_type": "markdown",
   "metadata": {},
   "source": [
    "- Dosyayı kapatmayı kesinlikle unutmamalıyız. \n",
    "- Bunun önüne geçmenin bir yolu `with .. as` bloğu kullanmaktır. Bu durumda `close()` komutuna gerek kalmaz."
   ]
  },
  {
   "cell_type": "code",
   "execution_count": null,
   "metadata": {},
   "outputs": [],
   "source": [
    "with open(\"davet.txt\", \"r\", encoding='utf8') as f:\n",
    "    # ilk 29 karakteri okuyoruz.\n",
    "    text_1 = f.read(29) \n",
    "    \n",
    "    # sıradaki 38 karakteri okuyoruz.\n",
    "    text_2 = f.read(38)  \n",
    "    \n",
    "    # kürsörü '0' no'lu yere getiriyoruz.    \n",
    "    f.seek(0) # \n",
    "    \n",
    "    # Kürsör başa geldiğinden ilk 28 karakteri okuyoruz. \n",
    "    text_3=f.read(29)\n",
    "    \n",
    "    # Kürsörün nerede olduğunu öğreniyoruz.\n",
    "    position=f.tell() \n",
    "\n",
    "print (text_1)\n",
    "print (text_2)\n",
    "print (text_3)\n",
    "print (position)"
   ]
  },
  {
   "cell_type": "markdown",
   "metadata": {},
   "source": [
    "- `read()` komutunun içinde bir rakam belirmezsek tüm dosya okunur. "
   ]
  },
  {
   "cell_type": "code",
   "execution_count": null,
   "metadata": {},
   "outputs": [],
   "source": [
    "with open(\"davet.txt\", \"r\", encoding='utf8') as f:\n",
    "    line=f.read() \n",
    "\n",
    "print (line)"
   ]
  },
  {
   "cell_type": "markdown",
   "metadata": {},
   "source": [
    "- `readline()` komutu ile tüm dosya yerine tek satırı okuyabiliriz."
   ]
  },
  {
   "cell_type": "code",
   "execution_count": null,
   "metadata": {},
   "outputs": [],
   "source": [
    "with open(\"davet.txt\", \"r\", encoding='utf8') as f:\n",
    "    line=f.readline()\n",
    "    \n",
    "print (line)"
   ]
  },
  {
   "cell_type": "markdown",
   "metadata": {},
   "source": [
    "- `readlines()` komutu ile kalan satırları okuyabiliriz. \n",
    "- Ayrıca tüm satırları birlikte okuyup ayrı ayrı saklayabiliriz."
   ]
  },
  {
   "cell_type": "code",
   "execution_count": null,
   "metadata": {},
   "outputs": [],
   "source": [
    "with open(\"davet.txt\", \"r\", encoding='utf8') as f:\n",
    "    line=f.readline()\n",
    "    rest_of_lines=f.readlines()\n",
    "    \n",
    "print (rest_of_lines)"
   ]
  },
  {
   "cell_type": "code",
   "execution_count": null,
   "metadata": {},
   "outputs": [],
   "source": [
    "with open(\"davet.txt\", \"r\", encoding='utf8') as f:\n",
    "    lines=f.readlines()\n",
    "    \n",
    "print (lines)"
   ]
  },
  {
   "cell_type": "markdown",
   "metadata": {},
   "source": [
    "Yukarıdaki listede iki satır ayrı elemanlar olarak saklandı. "
   ]
  },
  {
   "cell_type": "markdown",
   "metadata": {},
   "source": [
    "__Dosyaya Yazma__\n",
    "\n",
    "- Dosyaya yazmak için 'w' parametresini kullanacağız.\n",
    "- \"sample_new.txt\" dosyasına yazacağız. Böyle bir dosya olmadığından oluşturulacak."
   ]
  },
  {
   "cell_type": "code",
   "execution_count": null,
   "metadata": {},
   "outputs": [],
   "source": [
    "with open(\"sample_new.txt\",'w') as f: \n",
    "    f.write(\"This is line 1\\n\")\n",
    "    f.write(\"This is line 2\\n\")"
   ]
  },
  {
   "cell_type": "markdown",
   "metadata": {},
   "source": [
    "Yazdığımız dosyayı okuyalım"
   ]
  },
  {
   "cell_type": "code",
   "execution_count": null,
   "metadata": {},
   "outputs": [],
   "source": [
    "with open(\"sample_new.txt\", \"r\") as f:\n",
    "    lines=f.read()\n",
    "\n",
    "print (lines)"
   ]
  },
  {
   "cell_type": "markdown",
   "metadata": {},
   "source": [
    "__Dosyaya Ekleme Yapma__\n",
    "<br>\n",
    "Şimdi de dosyaya ekleme yapalım"
   ]
  },
  {
   "cell_type": "code",
   "execution_count": null,
   "metadata": {},
   "outputs": [],
   "source": [
    "with open(\"sample_new.txt\",'a') as f: \n",
    "    f.write(\"This is line 3\\n\")\n",
    "\n",
    "with open(\"sample_new.txt\", \"r\") as f:\n",
    "    lines=f.read()\n",
    "\n",
    "print (lines)"
   ]
  },
  {
   "cell_type": "markdown",
   "metadata": {},
   "source": [
    "__<font color=red>--- Alıştırma ---</font>__<br>\n",
    "Nazım Hikmetin 'Davet' şiirinde herbir kıta arasına bir satır boşluk koyarsak daha güzel görünebilir. Boşluk koyup \"davet_duzenli.txt\" dosyasına yazalım ve yazdığımız dosyayı okuyup ekrana yazdıralım."
   ]
  },
  {
   "cell_type": "code",
   "execution_count": null,
   "metadata": {},
   "outputs": [],
   "source": [
    "with open(\"davet.txt\", \"r\", encoding='utf8') as f:\n",
    "    dizeler = f.readlines()\n",
    "\n",
    "f = open(\"davet_duzenli.txt\", 'w', encoding='utf8')\n",
    "\n",
    "for i in range(0, len(dizeler),3):\n",
    "    for j in range(3):\n",
    "        f.write(dizeler[i+j])\n",
    "    f.write('\\n')\n",
    "f.close()\n",
    "\n",
    "with open(\"davet_duzenli.txt\", \"r\", encoding='utf8') as f:\n",
    "    dizeler = f.readlines()\n",
    "\n",
    "for dize in dizeler:\n",
    "    print(dize)"
   ]
  },
  {
   "cell_type": "markdown",
   "metadata": {},
   "source": [
    "## <font color=red>6. Fonksiyonlar (Functions)</font><a id='function'></a>\n"
   ]
  },
  {
   "cell_type": "markdown",
   "metadata": {},
   "source": [
    "Budan önceki kısımlarda fonksiyon kelimesini sık sık kullandık. Hatta bazı hazır fonksiyonları (print(), sum(), len() vb..) öğrendik. Şimdi fonksiyonların detayına girelim.\n",
    "\n",
    "- Öncelikle fonksiyonun bir adı vardır.<br>\n",
    "    `print`<br>\n",
    "    `len`<br><br>\n",
    "- Fonksiyonun yanında $($ $)$ adı vardır.<br>\n",
    "    `print()`<br>\n",
    "    `len()`<br><br>\n",
    "- Bu parantezlerin içinde birden fazla parametre bulunabilir. Bunların bazılarının da default değerleri olabilir.<br>\n",
    "    `print('1. metin', '2.metin')`<br>\n",
    "    `len('metin')`<br><br>\n",
    "- Fonksiyon çalıştıktan sonra bir sonuç ortaya çıkarır."
   ]
  },
  {
   "cell_type": "code",
   "execution_count": null,
   "metadata": {
    "scrolled": true
   },
   "outputs": [],
   "source": [
    "print('1. metin', '2.metin')\n",
    "len('metin')"
   ]
  },
  {
   "cell_type": "markdown",
   "metadata": {},
   "source": [
    "- Fonksiyonların görevi, bir takım işlemleri bir araya toplayarak, bu işlemleri tek adımda yapmamızı saglamaktır. Örneğin bir listenin elemanlarının toplamını bulalım."
   ]
  },
  {
   "cell_type": "code",
   "execution_count": null,
   "metadata": {},
   "outputs": [],
   "source": [
    "liste = [2.5, 3, 4, -5]\n",
    "toplam = 0 \n",
    "for i in liste:\n",
    "    toplam += i\n",
    "    \n",
    "print(toplam)\n",
    "\n",
    "print(sum(liste))"
   ]
  },
  {
   "cell_type": "markdown",
   "metadata": {},
   "source": [
    "Hazır fonksiyonlardan bahsettikten sonra kendi fonksiyonumuzu nasıl yazabileceğimize bakalım. \n",
    "\n",
    "- Fonksiyona `def` ifadesi ile başlıyoruz.\n",
    "\n",
    "- Daha sonra fonksiyonun adı gelir. Bu ad bize daha sonra fonksiyona geri dönüş sağlar.\n",
    "\n",
    "- Fonksiyonun adından sonra parantez içerisinde parametre listesi gelir. Bu parametreler fonksiyon çalıştığı zaman fonksiyonun ana gövdesi içine geçmesi beklenen parametrelerdir.\n",
    "\n",
    "- Parantezi  kapattıktan sonra,  : ile satırı bitirip yapacağımız işlemleri bir sekme girintili şekilde yazıyoruz.\n",
    "\n",
    "- Fonksiyonun döndüreceği değeri `return` komutu ile belirtiyoruz. "
   ]
  },
  {
   "cell_type": "markdown",
   "metadata": {},
   "source": [
    "- Şimdi dik kenarları parametre olarak verilen dik üçgenin hipotenüsünün uzunluğunu bulalım."
   ]
  },
  {
   "cell_type": "code",
   "execution_count": null,
   "metadata": {},
   "outputs": [],
   "source": [
    "def hip(kenar_1, kenar_2):\n",
    "    \n",
    "    hipotenus = ((kenar_1**2) + (kenar_2**2))**0.5 \n",
    "    \n",
    "    return hipotenus"
   ]
  },
  {
   "cell_type": "code",
   "execution_count": null,
   "metadata": {
    "scrolled": true
   },
   "outputs": [],
   "source": [
    "print(hip(3,4))\n",
    "print(hip(6,8))\n",
    "print(hip(10,17.3))"
   ]
  },
  {
   "cell_type": "markdown",
   "metadata": {},
   "source": [
    "- Bir fonksiyonu değişken gibi kullanabiliriz."
   ]
  },
  {
   "cell_type": "code",
   "execution_count": null,
   "metadata": {},
   "outputs": [],
   "source": [
    "hip(3,4)*2"
   ]
  },
  {
   "cell_type": "markdown",
   "metadata": {},
   "source": [
    "Girilen bir sayıdan küçük olan tüm sayıların karesini listeye aktaran bir fonksiyon yazalım."
   ]
  },
  {
   "cell_type": "code",
   "execution_count": null,
   "metadata": {},
   "outputs": [],
   "source": [
    "def kucuk_kareler_listeye(x):\n",
    "    \n",
    "    kucukler_listesi=[]\n",
    "    for y in range(x):\n",
    "        kucukler_listesi.append(y**2)\n",
    "    \n",
    "    return kucukler_listesi\n",
    "\n",
    "print (kucuk_kareler_listeye(15))"
   ]
  },
  {
   "cell_type": "markdown",
   "metadata": {},
   "source": [
    "- List comprehension yaparak fonksiyonları kısaltabiliriz."
   ]
  },
  {
   "cell_type": "code",
   "execution_count": null,
   "metadata": {},
   "outputs": [],
   "source": [
    "def kucukler_listeye(x):\n",
    "    \n",
    "    kucukler_listeye=[y for y in range (x)]\n",
    "    \n",
    "    return kucukler_listeye\n",
    "\n",
    "print (kucukler_listeye(10))"
   ]
  },
  {
   "cell_type": "markdown",
   "metadata": {},
   "source": [
    "- Parametresi olmayan fonksiyon da tanımlayabiliriz."
   ]
  },
  {
   "cell_type": "code",
   "execution_count": null,
   "metadata": {},
   "outputs": [],
   "source": [
    "def merhaba():\n",
    "    \n",
    "    print (\"Merhaba, Nasılsınız?\")\n",
    "    \n",
    "merhaba() "
   ]
  },
  {
   "cell_type": "markdown",
   "metadata": {},
   "source": [
    "Kullanıcıdan bilgi isteyen bir fonksiyon yapalım."
   ]
  },
  {
   "cell_type": "code",
   "execution_count": 1,
   "metadata": {},
   "outputs": [
    {
     "name": "stdout",
     "output_type": "stream",
     "text": [
      "Adınız: Ali\n",
      "Soyadınız :Yılmaz\n",
      "Merhaba Ali Yılmaz\n"
     ]
    }
   ],
   "source": [
    "def login_dict():\n",
    "    \n",
    "    name=input(\"Adınız: \")\n",
    "    surname=input(\"Soyadınız :\")\n",
    "    print (\"Merhaba {} {}\".format(name,surname))\n",
    "    \n",
    "    return\n",
    "\n",
    "login_dict()"
   ]
  },
  {
   "cell_type": "markdown",
   "metadata": {},
   "source": [
    "- Fonksiyonumuzun bazı parametrelerini default olarak belirleyebiliriz. Burada diikkat etmemiz gereken default parametreler sonda yer almalıdır."
   ]
  },
  {
   "cell_type": "code",
   "execution_count": 3,
   "metadata": {},
   "outputs": [],
   "source": [
    "def selamlama(ad, soyad, n=True, ln=True): \n",
    "    \n",
    "    ad_soyad=\"\"\n",
    "    if n:\n",
    "        ad_soyad+=ad\n",
    "    if ln:\n",
    "        ad_soyad+=soyad\n",
    "    \n",
    "    return \"Hello \"+ad_soyad\n"
   ]
  },
  {
   "cell_type": "code",
   "execution_count": 4,
   "metadata": {},
   "outputs": [
    {
     "data": {
      "text/plain": [
       "'Hello John'"
      ]
     },
     "execution_count": 4,
     "metadata": {},
     "output_type": "execute_result"
    }
   ],
   "source": [
    "selamlama(\"John\",\"Bach\",True,False)"
   ]
  },
  {
   "cell_type": "code",
   "execution_count": 5,
   "metadata": {},
   "outputs": [
    {
     "data": {
      "text/plain": [
       "'Hello JohnBach'"
      ]
     },
     "execution_count": 5,
     "metadata": {},
     "output_type": "execute_result"
    }
   ],
   "source": [
    "selamlama(\"John\",\"Bach\",True,True)"
   ]
  },
  {
   "cell_type": "code",
   "execution_count": 6,
   "metadata": {},
   "outputs": [
    {
     "data": {
      "text/plain": [
       "'Hello JohnBach'"
      ]
     },
     "execution_count": 6,
     "metadata": {},
     "output_type": "execute_result"
    }
   ],
   "source": [
    "selamlama(\"John\",\"Bach\")"
   ]
  },
  {
   "cell_type": "markdown",
   "metadata": {},
   "source": [
    "## <font color=red>7. Hazır Fonksiyonlar ve Metodlar (Embedded Functions and Methods)</font><a id='embedded_functions'></a>\n",
    "\n",
    "Hazır Fonksiyonlar ve Metodlar kod yazarken, heasplama yaparken işimizi kolaylaştıran kısayollardır diyebiliriz."
   ]
  },
  {
   "cell_type": "markdown",
   "metadata": {},
   "source": [
    "__all ( )__\n",
    "Bir listedeki tüm değerler `True` ise `True`, en az bir `False` varsa `False` döndürür."
   ]
  },
  {
   "cell_type": "code",
   "execution_count": 9,
   "metadata": {},
   "outputs": [
    {
     "name": "stdout",
     "output_type": "stream",
     "text": [
      "True False\n"
     ]
    }
   ],
   "source": [
    "liste_1 = [True, True, True, True]\n",
    "liste_2 = [False, True, True, True]\n",
    "\n",
    "print(all(liste_1), all(liste_2))"
   ]
  },
  {
   "cell_type": "code",
   "execution_count": null,
   "metadata": {},
   "outputs": [],
   "source": [
    "# any() function returns False if all values in a list are False; at least one value is True, it returns False.\n",
    "\n",
    "my_list=[True, False, False, True]\n",
    "\n",
    "any(my_list)"
   ]
  },
  {
   "cell_type": "code",
   "execution_count": null,
   "metadata": {},
   "outputs": [],
   "source": [
    "my_list=[False, False, False, False]\n",
    "\n",
    "any(my_list)"
   ]
  },
  {
   "cell_type": "markdown",
   "metadata": {},
   "source": [
    "### enumerate ( )"
   ]
  },
  {
   "cell_type": "code",
   "execution_count": null,
   "metadata": {},
   "outputs": [],
   "source": [
    "# enumerate () is used to iterate over lists using both index and items\n",
    "# it does the same thing as dict.items() does for dictionaries..\n",
    "\n",
    "animals = ['bird', 'rabbit', 'dog', 'cat']\n",
    "\n",
    "# lets write each item with its index number; but without using enumerate()\n",
    "\n",
    "index=0\n",
    "\n",
    "for animal in animals:\n",
    "    print (\"index : {} animal : {}\".format(index,animal))\n",
    "    index+=1"
   ]
  },
  {
   "cell_type": "code",
   "execution_count": null,
   "metadata": {},
   "outputs": [],
   "source": [
    "# now let's do the same with enumerate()\n",
    "\n",
    "for index,animal in enumerate(animals):\n",
    "    print (\"index : {} animal : {}\".format(index,animal))"
   ]
  },
  {
   "cell_type": "markdown",
   "metadata": {},
   "source": [
    "### lambda"
   ]
  },
  {
   "cell_type": "code",
   "execution_count": null,
   "metadata": {},
   "outputs": [],
   "source": [
    "# lambda functions are another way of defining the functions\n",
    "# it can be useful when you need to create a function that is going to be used only once \n",
    "# or when you don't want to bother defining all the routines for function\n",
    "\n",
    "def sqr (x):\n",
    "    \n",
    "    return x**2\n",
    "\n",
    "print (sqr(3))"
   ]
  },
  {
   "cell_type": "code",
   "execution_count": null,
   "metadata": {},
   "outputs": [],
   "source": [
    "lambda_sqr= lambda x: x**2\n",
    "\n",
    "print (lambda_sqr(3))"
   ]
  },
  {
   "cell_type": "code",
   "execution_count": null,
   "metadata": {},
   "outputs": [],
   "source": [
    "f = lambda x, y : x + y\n",
    "\n",
    "f(3,5)"
   ]
  },
  {
   "cell_type": "code",
   "execution_count": null,
   "metadata": {},
   "outputs": [],
   "source": [
    "is_even=lambda x: print (\"{} is even\".format(x)) if x % 2==0 else print (\"{} is odd\".format(x))\n",
    "\n",
    "is_even(35)"
   ]
  },
  {
   "cell_type": "markdown",
   "metadata": {},
   "source": [
    "### filter "
   ]
  },
  {
   "cell_type": "code",
   "execution_count": null,
   "metadata": {},
   "outputs": [],
   "source": [
    "# The filter filters out items based on a test function which is a filter and apply functions to pairs of item \n",
    "# The first parameter in filter () must be boolean\n",
    "# This function will be applied to every element of the list l. \n",
    "# Only if first parameter returns True will the element of the list be included in the result list.\n",
    "\n",
    "def is_even(x):\n",
    "    \n",
    "    if x%2==0:\n",
    "        \n",
    "        return True\n",
    "    else:\n",
    "        return False\n",
    "\n",
    "\n",
    "list(filter (is_even, range(1,10)))\n",
    "\n",
    "# there is no () or parameter when calling the function"
   ]
  },
  {
   "cell_type": "code",
   "execution_count": null,
   "metadata": {},
   "outputs": [],
   "source": [
    "# we can do the same with lambda fıunction\n",
    "\n",
    "list(filter (lambda x: True if x % 2==0 else False, range(1,10)))"
   ]
  },
  {
   "cell_type": "code",
   "execution_count": null,
   "metadata": {},
   "outputs": [],
   "source": [
    "# let's list the even values smaller than a given value\n",
    "\n",
    "def get_even(x):\n",
    "    \n",
    "    result = []\n",
    "    for a in range(0,x):\n",
    "        if a%2==0:\n",
    "            result.append(a)\n",
    "    return result\n",
    "\n",
    "get_even(24)"
   ]
  },
  {
   "cell_type": "code",
   "execution_count": null,
   "metadata": {},
   "outputs": [],
   "source": [
    "# now we can write the same with lambda and filter in much simpler and fsater way\n",
    "\n",
    "list(filter((lambda x: x%2==0), range(0,24)))"
   ]
  },
  {
   "cell_type": "markdown",
   "metadata": {},
   "source": [
    "### map "
   ]
  },
  {
   "cell_type": "code",
   "execution_count": null,
   "metadata": {},
   "outputs": [],
   "source": [
    "#  map function applies a passed-in function to each item in an iterable object \n",
    "# and returns a list containing all the function call result.\n",
    "# it takes a function as the first parameter, and an iterable object as the second parameter\n",
    "\n",
    "items = [1, 2, 3, 4, 5]\n",
    "\n",
    "def sqr(x): \n",
    "    \n",
    "    return x ** 2\n",
    "\n",
    "list(map(sqr, items))"
   ]
  },
  {
   "cell_type": "code",
   "execution_count": null,
   "metadata": {},
   "outputs": [],
   "source": [
    "list(map((lambda x: x **2), items))"
   ]
  },
  {
   "cell_type": "code",
   "execution_count": null,
   "metadata": {},
   "outputs": [],
   "source": [
    "# lets list the squares if the number is even; else just itself\n",
    "\n",
    "result=list(map((lambda x: x**2 if x%2==0 else x), range(0,24)))\n",
    "\n",
    "print (*result)"
   ]
  },
  {
   "cell_type": "code",
   "execution_count": null,
   "metadata": {},
   "outputs": [],
   "source": []
  },
  {
   "cell_type": "markdown",
   "metadata": {},
   "source": [
    "## <font color=red>8. Hata Ayıklama (Exceptions and error handling)</font> <a id='error'></a>\n",
    "\n",
    "An exception is an error that happens during execution of a program. When that error occurs, Python generate an exception that can be handled, which avoids your program to crash.\n",
    "\n",
    "Exceptions are convenient in many ways for handling errors and special conditions in a program. When you think that you have a code which can produce an error then you can use exception handling so that rest of your code can be executed\n",
    "\n",
    "\n",
    "    '''\n",
    "    try:\n",
    "        some statements here\n",
    "    except:\n",
    "        exception handling\n",
    "    '''\n",
    "    \n",
    "\n",
    "The code within the try clause will be executed statement by statement.\n",
    "\n",
    "If an exception occurs, the rest of the try block will be skipped and the except clause will be executed."
   ]
  },
  {
   "cell_type": "code",
   "execution_count": null,
   "metadata": {},
   "outputs": [],
   "source": [
    "try:\n",
    "    x=input(\"enter a number:\")\n",
    "    print (x**x)\n",
    "except:\n",
    "    print (\"Please enter just numbers ! \")"
   ]
  },
  {
   "cell_type": "markdown",
   "metadata": {},
   "source": [
    "- if we know what kind of errors can be thrown, we can specify certain behaviours !\n",
    "\n",
    "        except IOError:\n",
    "            print('An error occurred trying to read the file.')\n",
    "\n",
    "        except ValueError:\n",
    "            print('Non-numeric data found in the file.')\n",
    "\n",
    "        except ImportError:\n",
    "            print \"NO module found\"\n",
    "\n",
    "        except EOFError:\n",
    "            print('EOF error !')\n",
    "\n",
    "        except KeyboardInterrupt:\n",
    "            print('You cancelled the operation.')\n",
    "\n",
    "        except:\n",
    "            print('An error occurred.')"
   ]
  },
  {
   "cell_type": "code",
   "execution_count": null,
   "metadata": {},
   "outputs": [],
   "source": [
    "# if you don't want to specify anything after \"except\", you can just use \"pass\"\n",
    "\n",
    "try:\n",
    "    x=input(\"enter a number:\")\n",
    "    print (x**x)\n",
    "except:\n",
    "    pass\n",
    "\n",
    "print (\"The code is still running\")\n"
   ]
  },
  {
   "cell_type": "code",
   "execution_count": null,
   "metadata": {},
   "outputs": [],
   "source": [
    "# we can also catch and print the error\n",
    "\n",
    "try:\n",
    "    x=1/0\n",
    "except Exception as e:\n",
    "    print (e)"
   ]
  },
  {
   "cell_type": "code",
   "execution_count": null,
   "metadata": {},
   "outputs": [],
   "source": []
  },
  {
   "cell_type": "markdown",
   "metadata": {},
   "source": [
    "## <font color=red>9. Modüller (Moduls)</font> <a id='modul'></a>\n"
   ]
  },
  {
   "cell_type": "markdown",
   "metadata": {},
   "source": [
    "A module is a file consisting of Python code. A module can define functions, classes and variables. A module can also include runnable code.\n",
    "\n",
    "We can use previously written scripts by importing the code into our code"
   ]
  },
  {
   "cell_type": "code",
   "execution_count": null,
   "metadata": {},
   "outputs": [],
   "source": [
    "# lets first learn how to create a plain python (.py) file and then try to use that file's functions in our code"
   ]
  },
  {
   "cell_type": "code",
   "execution_count": null,
   "metadata": {},
   "outputs": [],
   "source": [
    "%%writefile example.py \n",
    "# this command is used to create a python file within a Jupyter Notebook's cell\n",
    "\n",
    "def make_list_in_range(x,y):\n",
    "    \n",
    "    new_list=[]\n",
    "    for a in range(x+1,y):\n",
    "        new_list.append(a)\n",
    "    \n",
    "    return new_list\n",
    "\n",
    "def make_list_of_even(x,y):\n",
    "    \n",
    "    new_list=[]\n",
    "    for a in range(x+1,y):\n",
    "        if a%2==0:\n",
    "            new_list.append(a)\n",
    "    \n",
    "    return new_list"
   ]
  },
  {
   "cell_type": "code",
   "execution_count": null,
   "metadata": {},
   "outputs": [],
   "source": [
    "# lets see what happens when we want to use these functions\n",
    "\n",
    "make_list_in_range(1,34)"
   ]
  },
  {
   "cell_type": "code",
   "execution_count": null,
   "metadata": {},
   "outputs": [],
   "source": [
    "# it throws error as it's in another .py file. So we need to import that file at first\n",
    "\n",
    "import example"
   ]
  },
  {
   "cell_type": "code",
   "execution_count": null,
   "metadata": {},
   "outputs": [],
   "source": [
    "example.make_list_in_range(1,5)"
   ]
  },
  {
   "cell_type": "code",
   "execution_count": null,
   "metadata": {},
   "outputs": [],
   "source": [
    "print (*example.make_list_in_range(1,34))"
   ]
  },
  {
   "cell_type": "code",
   "execution_count": null,
   "metadata": {},
   "outputs": [],
   "source": [
    "print (*example.make_list_of_even(1,34))"
   ]
  },
  {
   "cell_type": "code",
   "execution_count": null,
   "metadata": {},
   "outputs": [],
   "source": [
    "# if we'd like to shorten the file name while using...\n",
    "\n",
    "import example as ex\n",
    "\n",
    "ex.make_list_in_range(1,5)"
   ]
  },
  {
   "cell_type": "code",
   "execution_count": null,
   "metadata": {},
   "outputs": [],
   "source": [
    "# it's time to talk a little bit of importing the other modules and packages embedded in Python\n",
    "\n",
    "import math"
   ]
  },
  {
   "cell_type": "code",
   "execution_count": null,
   "metadata": {},
   "outputs": [],
   "source": [
    "math.sqrt(4)"
   ]
  },
  {
   "cell_type": "code",
   "execution_count": null,
   "metadata": {},
   "outputs": [],
   "source": [
    "from math import sqrt"
   ]
  },
  {
   "cell_type": "code",
   "execution_count": null,
   "metadata": {},
   "outputs": [],
   "source": [
    "sqrt(4)"
   ]
  },
  {
   "cell_type": "code",
   "execution_count": null,
   "metadata": {},
   "outputs": [],
   "source": [
    "# if we still do not want to use any handle to call a method, we can import all the methods of a given module\n",
    "\n",
    "from math import *"
   ]
  },
  {
   "cell_type": "code",
   "execution_count": null,
   "metadata": {},
   "outputs": [],
   "source": [
    "ceil(3.4)"
   ]
  },
  {
   "cell_type": "code",
   "execution_count": null,
   "metadata": {},
   "outputs": [],
   "source": [
    "dir(math) # we can see all the methods inside the math module"
   ]
  },
  {
   "cell_type": "code",
   "execution_count": null,
   "metadata": {},
   "outputs": [],
   "source": [
    "# if we want to see the methods that can be used with a module, there is a shortcut for this in Jupyter..\n",
    "# press Tab after dot\n",
    "# if we want a detailed explanation for a method, we can use Shift+Tab+Tab\n",
    "\n",
    "math.sqrt"
   ]
  },
  {
   "cell_type": "code",
   "execution_count": null,
   "metadata": {},
   "outputs": [],
   "source": [
    "help (math) # help() lists all the methods and explanations"
   ]
  },
  {
   "cell_type": "code",
   "execution_count": null,
   "metadata": {},
   "outputs": [],
   "source": []
  },
  {
   "cell_type": "code",
   "execution_count": null,
   "metadata": {},
   "outputs": [],
   "source": []
  },
  {
   "cell_type": "code",
   "execution_count": null,
   "metadata": {},
   "outputs": [],
   "source": []
  },
  {
   "cell_type": "code",
   "execution_count": null,
   "metadata": {},
   "outputs": [],
   "source": []
  },
  {
   "cell_type": "code",
   "execution_count": null,
   "metadata": {},
   "outputs": [],
   "source": []
  }
 ],
 "metadata": {
  "kernelspec": {
   "display_name": "Python 3",
   "language": "python",
   "name": "python3"
  },
  "language_info": {
   "codemirror_mode": {
    "name": "ipython",
    "version": 3
   },
   "file_extension": ".py",
   "mimetype": "text/x-python",
   "name": "python",
   "nbconvert_exporter": "python",
   "pygments_lexer": "ipython3",
   "version": "3.6.5"
  }
 },
 "nbformat": 4,
 "nbformat_minor": 2
}
